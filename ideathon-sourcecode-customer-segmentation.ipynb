{
 "cells": [
  {
   "cell_type": "markdown",
   "id": "635d8326",
   "metadata": {},
   "source": [
    "## Importing the required libraries"
   ]
  },
  {
   "cell_type": "code",
   "execution_count": 1,
   "id": "8640e610",
   "metadata": {},
   "outputs": [],
   "source": [
    "import numpy as np \n",
    "import pandas as pd \n",
    "import matplotlib.pyplot as plt \n",
    "import seaborn as sns "
   ]
  },
  {
   "cell_type": "markdown",
   "id": "2b6f479e",
   "metadata": {},
   "source": [
    "## Reading the dataset"
   ]
  },
  {
   "cell_type": "code",
   "execution_count": 2,
   "id": "57a055a0",
   "metadata": {},
   "outputs": [],
   "source": [
    "df = pd.read_csv(\"Mall_Customers.csv\")"
   ]
  },
  {
   "cell_type": "code",
   "execution_count": 3,
   "id": "82821a1f",
   "metadata": {},
   "outputs": [
    {
     "data": {
      "text/html": [
       "<div>\n",
       "<style scoped>\n",
       "    .dataframe tbody tr th:only-of-type {\n",
       "        vertical-align: middle;\n",
       "    }\n",
       "\n",
       "    .dataframe tbody tr th {\n",
       "        vertical-align: top;\n",
       "    }\n",
       "\n",
       "    .dataframe thead th {\n",
       "        text-align: right;\n",
       "    }\n",
       "</style>\n",
       "<table border=\"1\" class=\"dataframe\">\n",
       "  <thead>\n",
       "    <tr style=\"text-align: right;\">\n",
       "      <th></th>\n",
       "      <th>CustomerID</th>\n",
       "      <th>Gender</th>\n",
       "      <th>Age</th>\n",
       "      <th>Annual Income (k$)</th>\n",
       "      <th>Spending Score (1-100)</th>\n",
       "    </tr>\n",
       "  </thead>\n",
       "  <tbody>\n",
       "    <tr>\n",
       "      <th>0</th>\n",
       "      <td>1</td>\n",
       "      <td>Male</td>\n",
       "      <td>19</td>\n",
       "      <td>15</td>\n",
       "      <td>39</td>\n",
       "    </tr>\n",
       "    <tr>\n",
       "      <th>1</th>\n",
       "      <td>2</td>\n",
       "      <td>Male</td>\n",
       "      <td>21</td>\n",
       "      <td>15</td>\n",
       "      <td>81</td>\n",
       "    </tr>\n",
       "    <tr>\n",
       "      <th>2</th>\n",
       "      <td>3</td>\n",
       "      <td>Female</td>\n",
       "      <td>20</td>\n",
       "      <td>16</td>\n",
       "      <td>6</td>\n",
       "    </tr>\n",
       "    <tr>\n",
       "      <th>3</th>\n",
       "      <td>4</td>\n",
       "      <td>Female</td>\n",
       "      <td>23</td>\n",
       "      <td>16</td>\n",
       "      <td>77</td>\n",
       "    </tr>\n",
       "    <tr>\n",
       "      <th>4</th>\n",
       "      <td>5</td>\n",
       "      <td>Female</td>\n",
       "      <td>31</td>\n",
       "      <td>17</td>\n",
       "      <td>40</td>\n",
       "    </tr>\n",
       "  </tbody>\n",
       "</table>\n",
       "</div>"
      ],
      "text/plain": [
       "   CustomerID  Gender  Age  Annual Income (k$)  Spending Score (1-100)\n",
       "0           1    Male   19                  15                      39\n",
       "1           2    Male   21                  15                      81\n",
       "2           3  Female   20                  16                       6\n",
       "3           4  Female   23                  16                      77\n",
       "4           5  Female   31                  17                      40"
      ]
     },
     "execution_count": 3,
     "metadata": {},
     "output_type": "execute_result"
    }
   ],
   "source": [
    "df.head(5)"
   ]
  },
  {
   "cell_type": "markdown",
   "id": "4c381a09",
   "metadata": {},
   "source": [
    "## Dropping the insignificant column"
   ]
  },
  {
   "cell_type": "code",
   "execution_count": 4,
   "id": "f61ad4ad",
   "metadata": {},
   "outputs": [],
   "source": [
    "df.drop('CustomerID', axis = 1, inplace = True) "
   ]
  },
  {
   "cell_type": "markdown",
   "id": "ae5d2738",
   "metadata": {},
   "source": [
    "\n",
    "Dropping the column - Customer ID as it does not add any significance to the dataset. \n"
   ]
  },
  {
   "cell_type": "code",
   "execution_count": 5,
   "id": "da12bedc",
   "metadata": {},
   "outputs": [
    {
     "data": {
      "text/html": [
       "<div>\n",
       "<style scoped>\n",
       "    .dataframe tbody tr th:only-of-type {\n",
       "        vertical-align: middle;\n",
       "    }\n",
       "\n",
       "    .dataframe tbody tr th {\n",
       "        vertical-align: top;\n",
       "    }\n",
       "\n",
       "    .dataframe thead th {\n",
       "        text-align: right;\n",
       "    }\n",
       "</style>\n",
       "<table border=\"1\" class=\"dataframe\">\n",
       "  <thead>\n",
       "    <tr style=\"text-align: right;\">\n",
       "      <th></th>\n",
       "      <th>Gender</th>\n",
       "      <th>Age</th>\n",
       "      <th>Annual Income (k$)</th>\n",
       "      <th>Spending Score (1-100)</th>\n",
       "    </tr>\n",
       "  </thead>\n",
       "  <tbody>\n",
       "    <tr>\n",
       "      <th>0</th>\n",
       "      <td>Male</td>\n",
       "      <td>19</td>\n",
       "      <td>15</td>\n",
       "      <td>39</td>\n",
       "    </tr>\n",
       "    <tr>\n",
       "      <th>1</th>\n",
       "      <td>Male</td>\n",
       "      <td>21</td>\n",
       "      <td>15</td>\n",
       "      <td>81</td>\n",
       "    </tr>\n",
       "    <tr>\n",
       "      <th>2</th>\n",
       "      <td>Female</td>\n",
       "      <td>20</td>\n",
       "      <td>16</td>\n",
       "      <td>6</td>\n",
       "    </tr>\n",
       "    <tr>\n",
       "      <th>3</th>\n",
       "      <td>Female</td>\n",
       "      <td>23</td>\n",
       "      <td>16</td>\n",
       "      <td>77</td>\n",
       "    </tr>\n",
       "    <tr>\n",
       "      <th>4</th>\n",
       "      <td>Female</td>\n",
       "      <td>31</td>\n",
       "      <td>17</td>\n",
       "      <td>40</td>\n",
       "    </tr>\n",
       "  </tbody>\n",
       "</table>\n",
       "</div>"
      ],
      "text/plain": [
       "   Gender  Age  Annual Income (k$)  Spending Score (1-100)\n",
       "0    Male   19                  15                      39\n",
       "1    Male   21                  15                      81\n",
       "2  Female   20                  16                       6\n",
       "3  Female   23                  16                      77\n",
       "4  Female   31                  17                      40"
      ]
     },
     "execution_count": 5,
     "metadata": {},
     "output_type": "execute_result"
    }
   ],
   "source": [
    "df.head(5) #Showing the first five rows"
   ]
  },
  {
   "cell_type": "markdown",
   "id": "718c177d",
   "metadata": {},
   "source": [
    "## Exploratory Data Analysis"
   ]
  },
  {
   "cell_type": "markdown",
   "id": "0f018b56",
   "metadata": {},
   "source": [
    "### Shape of the dataset"
   ]
  },
  {
   "cell_type": "code",
   "execution_count": 6,
   "id": "fa8384a2",
   "metadata": {},
   "outputs": [
    {
     "data": {
      "text/plain": [
       "(200, 4)"
      ]
     },
     "execution_count": 6,
     "metadata": {},
     "output_type": "execute_result"
    }
   ],
   "source": [
    "df.shape"
   ]
  },
  {
   "cell_type": "markdown",
   "id": "bca898df",
   "metadata": {},
   "source": [
    "The dataset has 200 rows and 4 columns. "
   ]
  },
  {
   "cell_type": "markdown",
   "id": "60b93069",
   "metadata": {},
   "source": [
    "### Checking the data types of the columns"
   ]
  },
  {
   "cell_type": "code",
   "execution_count": 7,
   "id": "9411779b",
   "metadata": {},
   "outputs": [
    {
     "data": {
      "text/plain": [
       "Gender                    object\n",
       "Age                        int64\n",
       "Annual Income (k$)         int64\n",
       "Spending Score (1-100)     int64\n",
       "dtype: object"
      ]
     },
     "execution_count": 7,
     "metadata": {},
     "output_type": "execute_result"
    }
   ],
   "source": [
    "df.dtypes"
   ]
  },
  {
   "cell_type": "markdown",
   "id": "6ee11fc8",
   "metadata": {},
   "source": [
    "Of the four columns in the dataset, the column - 'Gender' is of dtype: object. The remaining columns are of dtype: int64"
   ]
  },
  {
   "cell_type": "markdown",
   "id": "9bde1a8b",
   "metadata": {},
   "source": [
    "### Statistical Summary"
   ]
  },
  {
   "cell_type": "code",
   "execution_count": 8,
   "id": "8b1aca57",
   "metadata": {},
   "outputs": [
    {
     "data": {
      "text/html": [
       "<div>\n",
       "<style scoped>\n",
       "    .dataframe tbody tr th:only-of-type {\n",
       "        vertical-align: middle;\n",
       "    }\n",
       "\n",
       "    .dataframe tbody tr th {\n",
       "        vertical-align: top;\n",
       "    }\n",
       "\n",
       "    .dataframe thead th {\n",
       "        text-align: right;\n",
       "    }\n",
       "</style>\n",
       "<table border=\"1\" class=\"dataframe\">\n",
       "  <thead>\n",
       "    <tr style=\"text-align: right;\">\n",
       "      <th></th>\n",
       "      <th>Age</th>\n",
       "      <th>Annual Income (k$)</th>\n",
       "      <th>Spending Score (1-100)</th>\n",
       "    </tr>\n",
       "  </thead>\n",
       "  <tbody>\n",
       "    <tr>\n",
       "      <th>count</th>\n",
       "      <td>200.000000</td>\n",
       "      <td>200.000000</td>\n",
       "      <td>200.000000</td>\n",
       "    </tr>\n",
       "    <tr>\n",
       "      <th>mean</th>\n",
       "      <td>38.850000</td>\n",
       "      <td>60.560000</td>\n",
       "      <td>50.200000</td>\n",
       "    </tr>\n",
       "    <tr>\n",
       "      <th>std</th>\n",
       "      <td>13.969007</td>\n",
       "      <td>26.264721</td>\n",
       "      <td>25.823522</td>\n",
       "    </tr>\n",
       "    <tr>\n",
       "      <th>min</th>\n",
       "      <td>18.000000</td>\n",
       "      <td>15.000000</td>\n",
       "      <td>1.000000</td>\n",
       "    </tr>\n",
       "    <tr>\n",
       "      <th>25%</th>\n",
       "      <td>28.750000</td>\n",
       "      <td>41.500000</td>\n",
       "      <td>34.750000</td>\n",
       "    </tr>\n",
       "    <tr>\n",
       "      <th>50%</th>\n",
       "      <td>36.000000</td>\n",
       "      <td>61.500000</td>\n",
       "      <td>50.000000</td>\n",
       "    </tr>\n",
       "    <tr>\n",
       "      <th>75%</th>\n",
       "      <td>49.000000</td>\n",
       "      <td>78.000000</td>\n",
       "      <td>73.000000</td>\n",
       "    </tr>\n",
       "    <tr>\n",
       "      <th>max</th>\n",
       "      <td>70.000000</td>\n",
       "      <td>137.000000</td>\n",
       "      <td>99.000000</td>\n",
       "    </tr>\n",
       "  </tbody>\n",
       "</table>\n",
       "</div>"
      ],
      "text/plain": [
       "              Age  Annual Income (k$)  Spending Score (1-100)\n",
       "count  200.000000          200.000000              200.000000\n",
       "mean    38.850000           60.560000               50.200000\n",
       "std     13.969007           26.264721               25.823522\n",
       "min     18.000000           15.000000                1.000000\n",
       "25%     28.750000           41.500000               34.750000\n",
       "50%     36.000000           61.500000               50.000000\n",
       "75%     49.000000           78.000000               73.000000\n",
       "max     70.000000          137.000000               99.000000"
      ]
     },
     "execution_count": 8,
     "metadata": {},
     "output_type": "execute_result"
    }
   ],
   "source": [
    "df.describe()"
   ]
  },
  {
   "cell_type": "markdown",
   "id": "28fec4b0",
   "metadata": {},
   "source": [
    "The above table gives the statistical description of the dataset. "
   ]
  },
  {
   "cell_type": "markdown",
   "id": "fb57b12d",
   "metadata": {},
   "source": [
    "## Data visualization"
   ]
  },
  {
   "cell_type": "markdown",
   "id": "f57e2bed",
   "metadata": {},
   "source": [
    "### Relationship between Age and Annual Income"
   ]
  },
  {
   "cell_type": "code",
   "execution_count": 9,
   "id": "aa1952da",
   "metadata": {},
   "outputs": [
    {
     "data": {
      "image/png": "[encoded data removed]",
      "text/plain": [
       "<Figure size 640x480 with 1 Axes>"
      ]
     },
     "metadata": {},
     "output_type": "display_data"
    }
   ],
   "source": [
    "sns.scatterplot(x = df['Age'], y = (df['Annual Income (k$)']), hue = df['Gender'], palette = 'pastel' )\n",
    "plt.show()"
   ]
  },
  {
   "cell_type": "markdown",
   "id": "a1077c42",
   "metadata": {},
   "source": [
    "### Relationship between Age and Spending Score"
   ]
  },
  {
   "cell_type": "code",
   "execution_count": 10,
   "id": "8ab4c002",
   "metadata": {},
   "outputs": [
    {
     "data": {
      "image/png": "[encoded data removed]",
      "text/plain": [
       "<Figure size 640x480 with 1 Axes>"
      ]
     },
     "metadata": {},
     "output_type": "display_data"
    }
   ],
   "source": [
    "sns.scatterplot(x = df['Age'], y = df['Spending Score (1-100)'], hue = df['Gender'], palette = 'pastel' )\n",
    "plt.show()\n",
    "\n"
   ]
  },
  {
   "cell_type": "markdown",
   "id": "a22be05c",
   "metadata": {},
   "source": [
    "### Relationship between Spending Score and Annual Income"
   ]
  },
  {
   "cell_type": "code",
   "execution_count": 11,
   "id": "9647ec56",
   "metadata": {},
   "outputs": [
    {
     "data": {
      "image/png": "[encoded data removed]",
      "text/plain": [
       "<Figure size 640x480 with 1 Axes>"
      ]
     },
     "metadata": {},
     "output_type": "display_data"
    }
   ],
   "source": [
    "sns.scatterplot(x = df['Spending Score (1-100)'], y = (df['Annual Income (k$)']), hue = df['Gender'], palette = 'pastel' )\n",
    "\n",
    "plt.show()\n",
    "\n"
   ]
  },
  {
   "cell_type": "markdown",
   "id": "2ee6b88d",
   "metadata": {},
   "source": [
    "### Data Visualization to check for outliers"
   ]
  },
  {
   "cell_type": "code",
   "execution_count": 12,
   "id": "39ce7a61",
   "metadata": {},
   "outputs": [
    {
     "data": {
      "text/plain": [
       "<AxesSubplot:>"
      ]
     },
     "execution_count": 12,
     "metadata": {},
     "output_type": "execute_result"
    },
    {
     "data": {
      "image/png": "[encoded data removed]",
      "text/plain": [
       "<Figure size 640x480 with 1 Axes>"
      ]
     },
     "metadata": {},
     "output_type": "display_data"
    }
   ],
   "source": [
    "df.boxplot()"
   ]
  },
  {
   "cell_type": "code",
   "execution_count": 13,
   "id": "99e6be0a",
   "metadata": {},
   "outputs": [
    {
     "name": "stdout",
     "output_type": "stream",
     "text": [
      "126\n",
      "126\n",
      "137\n",
      "137\n"
     ]
    }
   ],
   "source": [
    "for i in df['Annual Income (k$)']:\n",
    "    if i > 120:\n",
    "        print(i)"
   ]
  },
  {
   "cell_type": "markdown",
   "id": "ac23b1d6",
   "metadata": {},
   "source": [
    "There are only two outliers in the column - Annual Income (k$). Hence, no treatment of outliers is necessary. "
   ]
  },
  {
   "cell_type": "markdown",
   "id": "3afee040",
   "metadata": {},
   "source": [
    "## Data Preprocessing"
   ]
  },
  {
   "cell_type": "markdown",
   "id": "64409985",
   "metadata": {},
   "source": [
    "### Checking for null values"
   ]
  },
  {
   "cell_type": "code",
   "execution_count": 14,
   "id": "0ee1bb31",
   "metadata": {},
   "outputs": [
    {
     "data": {
      "text/plain": [
       "Gender                    0\n",
       "Age                       0\n",
       "Annual Income (k$)        0\n",
       "Spending Score (1-100)    0\n",
       "dtype: int64"
      ]
     },
     "execution_count": 14,
     "metadata": {},
     "output_type": "execute_result"
    }
   ],
   "source": [
    "df.isnull().sum()"
   ]
  },
  {
   "cell_type": "markdown",
   "id": "983f9fe8",
   "metadata": {},
   "source": [
    "The dataset does not contain any null values. "
   ]
  },
  {
   "cell_type": "markdown",
   "id": "1230e576",
   "metadata": {},
   "source": [
    "### Splitting the numerical data"
   ]
  },
  {
   "cell_type": "code",
   "execution_count": 15,
   "id": "2f53c031",
   "metadata": {},
   "outputs": [
    {
     "data": {
      "text/html": [
       "<div>\n",
       "<style scoped>\n",
       "    .dataframe tbody tr th:only-of-type {\n",
       "        vertical-align: middle;\n",
       "    }\n",
       "\n",
       "    .dataframe tbody tr th {\n",
       "        vertical-align: top;\n",
       "    }\n",
       "\n",
       "    .dataframe thead th {\n",
       "        text-align: right;\n",
       "    }\n",
       "</style>\n",
       "<table border=\"1\" class=\"dataframe\">\n",
       "  <thead>\n",
       "    <tr style=\"text-align: right;\">\n",
       "      <th></th>\n",
       "      <th>Age</th>\n",
       "      <th>Annual Income (k$)</th>\n",
       "      <th>Spending Score (1-100)</th>\n",
       "    </tr>\n",
       "  </thead>\n",
       "  <tbody>\n",
       "    <tr>\n",
       "      <th>0</th>\n",
       "      <td>19</td>\n",
       "      <td>15</td>\n",
       "      <td>39</td>\n",
       "    </tr>\n",
       "    <tr>\n",
       "      <th>1</th>\n",
       "      <td>21</td>\n",
       "      <td>15</td>\n",
       "      <td>81</td>\n",
       "    </tr>\n",
       "    <tr>\n",
       "      <th>2</th>\n",
       "      <td>20</td>\n",
       "      <td>16</td>\n",
       "      <td>6</td>\n",
       "    </tr>\n",
       "    <tr>\n",
       "      <th>3</th>\n",
       "      <td>23</td>\n",
       "      <td>16</td>\n",
       "      <td>77</td>\n",
       "    </tr>\n",
       "    <tr>\n",
       "      <th>4</th>\n",
       "      <td>31</td>\n",
       "      <td>17</td>\n",
       "      <td>40</td>\n",
       "    </tr>\n",
       "  </tbody>\n",
       "</table>\n",
       "</div>"
      ],
      "text/plain": [
       "   Age  Annual Income (k$)  Spending Score (1-100)\n",
       "0   19                  15                      39\n",
       "1   21                  15                      81\n",
       "2   20                  16                       6\n",
       "3   23                  16                      77\n",
       "4   31                  17                      40"
      ]
     },
     "execution_count": 15,
     "metadata": {},
     "output_type": "execute_result"
    }
   ],
   "source": [
    "num_df = df.select_dtypes(include = \"number\")\n",
    "num_df.head(5)"
   ]
  },
  {
   "cell_type": "markdown",
   "id": "5032bcc3",
   "metadata": {},
   "source": [
    "### Scaling the numerical columns using Standard Scaler "
   ]
  },
  {
   "cell_type": "code",
   "execution_count": 16,
   "id": "e78db46d",
   "metadata": {},
   "outputs": [],
   "source": [
    "from sklearn.preprocessing import StandardScaler\n",
    "\n",
    "sc = StandardScaler()\n",
    "df_sc = sc.fit_transform(num_df)\n",
    "df_sc = pd.DataFrame(df_sc, columns=num_df.columns)"
   ]
  },
  {
   "cell_type": "markdown",
   "id": "43a41a75",
   "metadata": {},
   "source": [
    "### Summary of the scaled data"
   ]
  },
  {
   "cell_type": "code",
   "execution_count": 17,
   "id": "41490748",
   "metadata": {},
   "outputs": [
    {
     "data": {
      "text/html": [
       "<div>\n",
       "<style scoped>\n",
       "    .dataframe tbody tr th:only-of-type {\n",
       "        vertical-align: middle;\n",
       "    }\n",
       "\n",
       "    .dataframe tbody tr th {\n",
       "        vertical-align: top;\n",
       "    }\n",
       "\n",
       "    .dataframe thead th {\n",
       "        text-align: right;\n",
       "    }\n",
       "</style>\n",
       "<table border=\"1\" class=\"dataframe\">\n",
       "  <thead>\n",
       "    <tr style=\"text-align: right;\">\n",
       "      <th></th>\n",
       "      <th>Age</th>\n",
       "      <th>Annual Income (k$)</th>\n",
       "      <th>Spending Score (1-100)</th>\n",
       "    </tr>\n",
       "  </thead>\n",
       "  <tbody>\n",
       "    <tr>\n",
       "      <th>count</th>\n",
       "      <td>2.000000e+02</td>\n",
       "      <td>2.000000e+02</td>\n",
       "      <td>2.000000e+02</td>\n",
       "    </tr>\n",
       "    <tr>\n",
       "      <th>mean</th>\n",
       "      <td>-9.603429e-17</td>\n",
       "      <td>-6.128431e-16</td>\n",
       "      <td>-1.121325e-16</td>\n",
       "    </tr>\n",
       "    <tr>\n",
       "      <th>std</th>\n",
       "      <td>1.002509e+00</td>\n",
       "      <td>1.002509e+00</td>\n",
       "      <td>1.002509e+00</td>\n",
       "    </tr>\n",
       "    <tr>\n",
       "      <th>min</th>\n",
       "      <td>-1.496335e+00</td>\n",
       "      <td>-1.738999e+00</td>\n",
       "      <td>-1.910021e+00</td>\n",
       "    </tr>\n",
       "    <tr>\n",
       "      <th>25%</th>\n",
       "      <td>-7.248436e-01</td>\n",
       "      <td>-7.275093e-01</td>\n",
       "      <td>-5.997931e-01</td>\n",
       "    </tr>\n",
       "    <tr>\n",
       "      <th>50%</th>\n",
       "      <td>-2.045351e-01</td>\n",
       "      <td>3.587926e-02</td>\n",
       "      <td>-7.764312e-03</td>\n",
       "    </tr>\n",
       "    <tr>\n",
       "      <th>75%</th>\n",
       "      <td>7.284319e-01</td>\n",
       "      <td>6.656748e-01</td>\n",
       "      <td>8.851316e-01</td>\n",
       "    </tr>\n",
       "    <tr>\n",
       "      <th>max</th>\n",
       "      <td>2.235532e+00</td>\n",
       "      <td>2.917671e+00</td>\n",
       "      <td>1.894492e+00</td>\n",
       "    </tr>\n",
       "  </tbody>\n",
       "</table>\n",
       "</div>"
      ],
      "text/plain": [
       "                Age  Annual Income (k$)  Spending Score (1-100)\n",
       "count  2.000000e+02        2.000000e+02            2.000000e+02\n",
       "mean  -9.603429e-17       -6.128431e-16           -1.121325e-16\n",
       "std    1.002509e+00        1.002509e+00            1.002509e+00\n",
       "min   -1.496335e+00       -1.738999e+00           -1.910021e+00\n",
       "25%   -7.248436e-01       -7.275093e-01           -5.997931e-01\n",
       "50%   -2.045351e-01        3.587926e-02           -7.764312e-03\n",
       "75%    7.284319e-01        6.656748e-01            8.851316e-01\n",
       "max    2.235532e+00        2.917671e+00            1.894492e+00"
      ]
     },
     "execution_count": 17,
     "metadata": {},
     "output_type": "execute_result"
    }
   ],
   "source": [
    "df_sc.describe()"
   ]
  },
  {
   "cell_type": "markdown",
   "id": "7a789c04",
   "metadata": {},
   "source": [
    "### Splitting the categorical data"
   ]
  },
  {
   "cell_type": "code",
   "execution_count": 18,
   "id": "d0b5476e",
   "metadata": {},
   "outputs": [],
   "source": [
    "cat_df = df.select_dtypes(include = 'object')"
   ]
  },
  {
   "cell_type": "code",
   "execution_count": 19,
   "id": "8feb254c",
   "metadata": {},
   "outputs": [
    {
     "data": {
      "text/plain": [
       "Gender\n",
       "Female    112\n",
       "Male       88\n",
       "dtype: int64"
      ]
     },
     "execution_count": 19,
     "metadata": {},
     "output_type": "execute_result"
    }
   ],
   "source": [
    "cat_df.value_counts()"
   ]
  },
  {
   "cell_type": "code",
   "execution_count": 20,
   "id": "baaf34d8",
   "metadata": {},
   "outputs": [
    {
     "data": {
      "text/plain": [
       "56.00000000000001"
      ]
     },
     "execution_count": 20,
     "metadata": {},
     "output_type": "execute_result"
    }
   ],
   "source": [
    "112/200*100"
   ]
  },
  {
   "cell_type": "markdown",
   "id": "75710290",
   "metadata": {},
   "source": [
    "This store has more female buyers. About 56% of the consumers are women while the remaining 44% are men. "
   ]
  },
  {
   "cell_type": "markdown",
   "id": "a3b0cd60",
   "metadata": {},
   "source": [
    "### Adding the categorical column back to the dataframe"
   ]
  },
  {
   "cell_type": "code",
   "execution_count": 21,
   "id": "b6e745bb",
   "metadata": {},
   "outputs": [],
   "source": [
    "df_sc['Gender'] = cat_df['Gender']"
   ]
  },
  {
   "cell_type": "code",
   "execution_count": 22,
   "id": "3d596f77",
   "metadata": {},
   "outputs": [
    {
     "data": {
      "text/html": [
       "<div>\n",
       "<style scoped>\n",
       "    .dataframe tbody tr th:only-of-type {\n",
       "        vertical-align: middle;\n",
       "    }\n",
       "\n",
       "    .dataframe tbody tr th {\n",
       "        vertical-align: top;\n",
       "    }\n",
       "\n",
       "    .dataframe thead th {\n",
       "        text-align: right;\n",
       "    }\n",
       "</style>\n",
       "<table border=\"1\" class=\"dataframe\">\n",
       "  <thead>\n",
       "    <tr style=\"text-align: right;\">\n",
       "      <th></th>\n",
       "      <th>Age</th>\n",
       "      <th>Annual Income (k$)</th>\n",
       "      <th>Spending Score (1-100)</th>\n",
       "      <th>Gender</th>\n",
       "    </tr>\n",
       "  </thead>\n",
       "  <tbody>\n",
       "    <tr>\n",
       "      <th>0</th>\n",
       "      <td>-1.424569</td>\n",
       "      <td>-1.738999</td>\n",
       "      <td>-0.434801</td>\n",
       "      <td>Male</td>\n",
       "    </tr>\n",
       "    <tr>\n",
       "      <th>1</th>\n",
       "      <td>-1.281035</td>\n",
       "      <td>-1.738999</td>\n",
       "      <td>1.195704</td>\n",
       "      <td>Male</td>\n",
       "    </tr>\n",
       "    <tr>\n",
       "      <th>2</th>\n",
       "      <td>-1.352802</td>\n",
       "      <td>-1.700830</td>\n",
       "      <td>-1.715913</td>\n",
       "      <td>Female</td>\n",
       "    </tr>\n",
       "    <tr>\n",
       "      <th>3</th>\n",
       "      <td>-1.137502</td>\n",
       "      <td>-1.700830</td>\n",
       "      <td>1.040418</td>\n",
       "      <td>Female</td>\n",
       "    </tr>\n",
       "    <tr>\n",
       "      <th>4</th>\n",
       "      <td>-0.563369</td>\n",
       "      <td>-1.662660</td>\n",
       "      <td>-0.395980</td>\n",
       "      <td>Female</td>\n",
       "    </tr>\n",
       "    <tr>\n",
       "      <th>...</th>\n",
       "      <td>...</td>\n",
       "      <td>...</td>\n",
       "      <td>...</td>\n",
       "      <td>...</td>\n",
       "    </tr>\n",
       "    <tr>\n",
       "      <th>195</th>\n",
       "      <td>-0.276302</td>\n",
       "      <td>2.268791</td>\n",
       "      <td>1.118061</td>\n",
       "      <td>Female</td>\n",
       "    </tr>\n",
       "    <tr>\n",
       "      <th>196</th>\n",
       "      <td>0.441365</td>\n",
       "      <td>2.497807</td>\n",
       "      <td>-0.861839</td>\n",
       "      <td>Female</td>\n",
       "    </tr>\n",
       "    <tr>\n",
       "      <th>197</th>\n",
       "      <td>-0.491602</td>\n",
       "      <td>2.497807</td>\n",
       "      <td>0.923953</td>\n",
       "      <td>Male</td>\n",
       "    </tr>\n",
       "    <tr>\n",
       "      <th>198</th>\n",
       "      <td>-0.491602</td>\n",
       "      <td>2.917671</td>\n",
       "      <td>-1.250054</td>\n",
       "      <td>Male</td>\n",
       "    </tr>\n",
       "    <tr>\n",
       "      <th>199</th>\n",
       "      <td>-0.635135</td>\n",
       "      <td>2.917671</td>\n",
       "      <td>1.273347</td>\n",
       "      <td>Male</td>\n",
       "    </tr>\n",
       "  </tbody>\n",
       "</table>\n",
       "<p>200 rows × 4 columns</p>\n",
       "</div>"
      ],
      "text/plain": [
       "          Age  Annual Income (k$)  Spending Score (1-100)  Gender\n",
       "0   -1.424569           -1.738999               -0.434801    Male\n",
       "1   -1.281035           -1.738999                1.195704    Male\n",
       "2   -1.352802           -1.700830               -1.715913  Female\n",
       "3   -1.137502           -1.700830                1.040418  Female\n",
       "4   -0.563369           -1.662660               -0.395980  Female\n",
       "..        ...                 ...                     ...     ...\n",
       "195 -0.276302            2.268791                1.118061  Female\n",
       "196  0.441365            2.497807               -0.861839  Female\n",
       "197 -0.491602            2.497807                0.923953    Male\n",
       "198 -0.491602            2.917671               -1.250054    Male\n",
       "199 -0.635135            2.917671                1.273347    Male\n",
       "\n",
       "[200 rows x 4 columns]"
      ]
     },
     "execution_count": 22,
     "metadata": {},
     "output_type": "execute_result"
    }
   ],
   "source": [
    "df_sc"
   ]
  },
  {
   "cell_type": "markdown",
   "id": "1450babe",
   "metadata": {},
   "source": [
    "### Converting the dataframe into array"
   ]
  },
  {
   "cell_type": "code",
   "execution_count": 23,
   "id": "48a11743",
   "metadata": {},
   "outputs": [],
   "source": [
    "data_array = df_sc.values"
   ]
  },
  {
   "cell_type": "code",
   "execution_count": 89,
   "id": "c4a3257c",
   "metadata": {},
   "outputs": [],
   "source": [
    "#data_array"
   ]
  },
  {
   "cell_type": "code",
   "execution_count": 25,
   "id": "75f7ff93",
   "metadata": {},
   "outputs": [
    {
     "data": {
      "text/plain": [
       "dtype('O')"
      ]
     },
     "execution_count": 25,
     "metadata": {},
     "output_type": "execute_result"
    }
   ],
   "source": [
    "data_array.dtype"
   ]
  },
  {
   "cell_type": "markdown",
   "id": "b1ec61c6",
   "metadata": {},
   "source": [
    "### Data type conversion of the numerical input arrays "
   ]
  },
  {
   "cell_type": "code",
   "execution_count": 26,
   "id": "bb1fb9b9",
   "metadata": {},
   "outputs": [],
   "source": [
    "data_array[:, 0] = data_array[:, 0].astype(float)\n",
    "data_array[:, 1] = data_array[:, 1].astype(float)\n",
    "data_array[:, 2] = data_array[:, 2].astype(float)\n",
    "data_array[:, 3] = data_array[:, 3].astype(object)\n"
   ]
  },
  {
   "cell_type": "code",
   "execution_count": 90,
   "id": "a89178b1",
   "metadata": {},
   "outputs": [],
   "source": [
    "#data_array"
   ]
  },
  {
   "cell_type": "markdown",
   "id": "7c005bd6",
   "metadata": {},
   "source": [
    "## Building the model using kprototypes - Unsupervised Learning implemented"
   ]
  },
  {
   "cell_type": "markdown",
   "id": "41a0c062",
   "metadata": {},
   "source": [
    "### Importing the library"
   ]
  },
  {
   "cell_type": "code",
   "execution_count": 28,
   "id": "58ca03bd",
   "metadata": {},
   "outputs": [],
   "source": [
    "from kmodes.kprototypes import KPrototypes"
   ]
  },
  {
   "cell_type": "code",
   "execution_count": 29,
   "id": "b3792aa0",
   "metadata": {},
   "outputs": [],
   "source": [
    "#pip install kmodes"
   ]
  },
  {
   "cell_type": "markdown",
   "id": "5808b218",
   "metadata": {},
   "source": [
    "### Building the model"
   ]
  },
  {
   "cell_type": "code",
   "execution_count": 30,
   "id": "233cb53e",
   "metadata": {},
   "outputs": [
    {
     "name": "stdout",
     "output_type": "stream",
     "text": [
      "Initialization method and algorithm are deterministic. Setting n_init to 1.\n"
     ]
    }
   ],
   "source": [
    "kproto = KPrototypes(n_clusters = 5, verbose = 2, max_iter = 20)"
   ]
  },
  {
   "cell_type": "markdown",
   "id": "bb47496a",
   "metadata": {},
   "source": [
    "### Initiating the clusters"
   ]
  },
  {
   "cell_type": "code",
   "execution_count": 31,
   "id": "f025cca7",
   "metadata": {},
   "outputs": [
    {
     "name": "stdout",
     "output_type": "stream",
     "text": [
      "Init: initializing centroids\n",
      "Init: initializing clusters\n",
      "Starting iterations...\n",
      "Run: 1, iteration: 1/20, moves: 44, ncost: 244.23638566086746\n",
      "Run: 1, iteration: 2/20, moves: 26, ncost: 216.99261471411143\n",
      "Run: 1, iteration: 3/20, moves: 11, ncost: 209.98313138337173\n",
      "Run: 1, iteration: 4/20, moves: 2, ncost: 209.76178846797768\n",
      "Run: 1, iteration: 5/20, moves: 0, ncost: 209.76178846797768\n",
      "Init: initializing centroids\n",
      "Init: initializing clusters\n",
      "Starting iterations...\n",
      "Run: 2, iteration: 1/20, moves: 47, ncost: 244.7674331702322\n",
      "Run: 2, iteration: 2/20, moves: 16, ncost: 237.97418232647672\n",
      "Run: 2, iteration: 3/20, moves: 15, ncost: 226.08697766907633\n",
      "Run: 2, iteration: 4/20, moves: 12, ncost: 219.09899191442742\n",
      "Run: 2, iteration: 5/20, moves: 8, ncost: 215.38837541376944\n",
      "Run: 2, iteration: 6/20, moves: 7, ncost: 210.44232243378508\n",
      "Run: 2, iteration: 7/20, moves: 2, ncost: 209.92918943313083\n",
      "Run: 2, iteration: 8/20, moves: 1, ncost: 209.76178846797762\n",
      "Run: 2, iteration: 9/20, moves: 0, ncost: 209.76178846797762\n",
      "Init: initializing centroids\n",
      "Init: initializing clusters\n",
      "Starting iterations...\n",
      "Run: 3, iteration: 1/20, moves: 46, ncost: 250.20987559999838\n",
      "Run: 3, iteration: 2/20, moves: 28, ncost: 227.40765033923003\n",
      "Run: 3, iteration: 3/20, moves: 12, ncost: 219.6081859103577\n",
      "Run: 3, iteration: 4/20, moves: 3, ncost: 219.33029551327746\n",
      "Run: 3, iteration: 5/20, moves: 0, ncost: 219.33029551327746\n",
      "Init: initializing centroids\n",
      "Init: initializing clusters\n",
      "Starting iterations...\n",
      "Run: 4, iteration: 1/20, moves: 63, ncost: 267.2484602493149\n",
      "Run: 4, iteration: 2/20, moves: 29, ncost: 248.81025387091177\n",
      "Run: 4, iteration: 3/20, moves: 19, ncost: 237.0443820554528\n",
      "Run: 4, iteration: 4/20, moves: 22, ncost: 220.83020241247155\n",
      "Run: 4, iteration: 5/20, moves: 6, ncost: 219.64433378745116\n",
      "Run: 4, iteration: 6/20, moves: 0, ncost: 219.64433378745116\n",
      "Init: initializing centroids\n",
      "Init: initializing clusters\n",
      "Init: initializing centroids\n",
      "Init: initializing clusters\n",
      "Starting iterations...\n",
      "Run: 5, iteration: 1/20, moves: 36, ncost: 294.3832406097902\n",
      "Run: 5, iteration: 2/20, moves: 34, ncost: 237.76702274387335\n",
      "Run: 5, iteration: 3/20, moves: 24, ncost: 212.5509336677675\n",
      "Run: 5, iteration: 4/20, moves: 5, ncost: 211.51543410804376\n",
      "Run: 5, iteration: 5/20, moves: 0, ncost: 211.51543410804376\n",
      "Init: initializing centroids\n",
      "Init: initializing clusters\n",
      "Starting iterations...\n",
      "Run: 6, iteration: 1/20, moves: 57, ncost: 231.2897551814373\n",
      "Run: 6, iteration: 2/20, moves: 27, ncost: 218.3090095996962\n",
      "Run: 6, iteration: 3/20, moves: 3, ncost: 217.68606889763424\n",
      "Run: 6, iteration: 4/20, moves: 1, ncost: 217.64354679461573\n",
      "Run: 6, iteration: 5/20, moves: 0, ncost: 217.64354679461573\n",
      "Init: initializing centroids\n",
      "Init: initializing clusters\n",
      "Starting iterations...\n",
      "Run: 7, iteration: 1/20, moves: 25, ncost: 287.38711874239397\n",
      "Run: 7, iteration: 2/20, moves: 7, ncost: 286.23166812608497\n",
      "Run: 7, iteration: 3/20, moves: 8, ncost: 282.90992315663226\n",
      "Run: 7, iteration: 4/20, moves: 14, ncost: 255.5207144368349\n",
      "Run: 7, iteration: 5/20, moves: 14, ncost: 239.33076409755748\n",
      "Run: 7, iteration: 6/20, moves: 19, ncost: 221.77860928223689\n",
      "Run: 7, iteration: 7/20, moves: 9, ncost: 217.91814559422727\n",
      "Run: 7, iteration: 8/20, moves: 2, ncost: 217.62749549252743\n",
      "Run: 7, iteration: 9/20, moves: 0, ncost: 217.62749549252743\n",
      "Init: initializing centroids\n",
      "Init: initializing clusters\n",
      "Starting iterations...\n",
      "Run: 8, iteration: 1/20, moves: 37, ncost: 236.53790456422237\n",
      "Run: 8, iteration: 2/20, moves: 12, ncost: 231.37757129930614\n",
      "Run: 8, iteration: 3/20, moves: 0, ncost: 231.37757129930614\n",
      "Init: initializing centroids\n",
      "Init: initializing clusters\n",
      "Init: initializing centroids\n",
      "Init: initializing clusters\n",
      "Starting iterations...\n",
      "Run: 9, iteration: 1/20, moves: 51, ncost: 225.78760654014278\n",
      "Run: 9, iteration: 2/20, moves: 15, ncost: 220.34042550824702\n",
      "Run: 9, iteration: 3/20, moves: 4, ncost: 219.45452509944118\n",
      "Run: 9, iteration: 4/20, moves: 0, ncost: 219.45452509944118\n",
      "Init: initializing centroids\n",
      "Init: initializing clusters\n",
      "Starting iterations...\n",
      "Run: 10, iteration: 1/20, moves: 63, ncost: 243.4391667153237\n",
      "Run: 10, iteration: 2/20, moves: 30, ncost: 228.7179986794885\n",
      "Run: 10, iteration: 3/20, moves: 16, ncost: 218.36882561844476\n",
      "Run: 10, iteration: 4/20, moves: 14, ncost: 212.44981914094652\n",
      "Run: 10, iteration: 5/20, moves: 2, ncost: 211.55307314938065\n",
      "Run: 10, iteration: 6/20, moves: 1, ncost: 211.47587431843613\n",
      "Run: 10, iteration: 7/20, moves: 0, ncost: 211.47587431843613\n",
      "Best run was number 2\n"
     ]
    }
   ],
   "source": [
    "clusters = kproto.fit_predict(data_array, categorical = [3])"
   ]
  },
  {
   "cell_type": "markdown",
   "id": "569bbdaa",
   "metadata": {},
   "source": [
    "### Cluster centroids"
   ]
  },
  {
   "cell_type": "code",
   "execution_count": 32,
   "id": "c2887d4d",
   "metadata": {},
   "outputs": [
    {
     "data": {
      "text/plain": [
       "array([['-0.44191719296133986', '0.9915830476839198',\n",
       "        '1.239502753794833', 'Female'],\n",
       "       ['0.17329544771563263', '1.06645385105932', '-1.298010300496133',\n",
       "        'Male'],\n",
       "       ['-0.974395918453341', '-1.329545316496027', '1.1321778796599247',\n",
       "        'Female'],\n",
       "       ['-0.781722484663908', '-0.40306917205391607',\n",
       "        '-0.2159139568083878', 'Female'],\n",
       "       ['1.1986274532472045', '-0.4609814094179847',\n",
       "        '-0.3270381821319671', 'Female']], dtype='<U32')"
      ]
     },
     "execution_count": 32,
     "metadata": {},
     "output_type": "execute_result"
    }
   ],
   "source": [
    "kproto.cluster_centroids_"
   ]
  },
  {
   "cell_type": "markdown",
   "id": "01825741",
   "metadata": {},
   "source": [
    "### Cluster labels"
   ]
  },
  {
   "cell_type": "code",
   "execution_count": 33,
   "id": "fa03b622",
   "metadata": {},
   "outputs": [
    {
     "name": "stdout",
     "output_type": "stream",
     "text": [
      "[3, 2, 3, 2, 3, 2, 3, 2, 4, 2, 4, 2, 4, 2, 3, 2, 3, 2, 4, 2, 3, 2, 4, 2, 4, 2, 4, 2, 3, 2, 4, 2, 4, 2, 4, 2, 4, 2, 3, 2, 4, 2, 4, 3, 4, 2, 4, 3, 3, 3, 4, 3, 3, 4, 4, 4, 4, 4, 3, 4, 4, 3, 4, 4, 4, 3, 4, 4, 3, 3, 4, 4, 4, 4, 4, 3, 4, 3, 3, 4, 4, 3, 4, 4, 3, 4, 4, 3, 3, 4, 4, 3, 4, 3, 3, 3, 4, 3, 4, 3, 3, 4, 4, 3, 4, 3, 4, 4, 4, 4, 4, 3, 3, 3, 3, 3, 4, 4, 4, 4, 3, 3, 3, 0, 3, 0, 1, 0, 1, 0, 1, 0, 3, 0, 1, 0, 1, 0, 1, 0, 1, 0, 3, 0, 1, 0, 1, 0, 1, 0, 1, 0, 1, 0, 1, 0, 1, 0, 1, 0, 4, 0, 1, 0, 1, 0, 1, 0, 1, 0, 1, 0, 1, 0, 1, 0, 1, 0, 1, 0, 1, 0, 1, 0, 1, 0, 1, 0, 1, 0, 1, 0, 1, 0, 1, 0, 1, 0, 1, 0]\n"
     ]
    }
   ],
   "source": [
    "cluster_dic = []\n",
    "\n",
    "for c in clusters:\n",
    "    cluster_dic.append(c)\n",
    "\n",
    "print(cluster_dic)"
   ]
  },
  {
   "cell_type": "code",
   "execution_count": 34,
   "id": "ef44af4c",
   "metadata": {},
   "outputs": [
    {
     "data": {
      "text/plain": [
       "200"
      ]
     },
     "execution_count": 34,
     "metadata": {},
     "output_type": "execute_result"
    }
   ],
   "source": [
    "len(cluster_dic)"
   ]
  },
  {
   "cell_type": "markdown",
   "id": "59cce5fb",
   "metadata": {},
   "source": [
    "### Adding the cluster labels to the dataframe"
   ]
  },
  {
   "cell_type": "code",
   "execution_count": 35,
   "id": "4bb1c54e",
   "metadata": {},
   "outputs": [
    {
     "data": {
      "text/plain": [
       "Index(['Age', 'Annual Income (k$)', 'Spending Score (1-100)', 'Gender'], dtype='object')"
      ]
     },
     "execution_count": 35,
     "metadata": {},
     "output_type": "execute_result"
    }
   ],
   "source": [
    "df_sc.columns"
   ]
  },
  {
   "cell_type": "code",
   "execution_count": 36,
   "id": "35958082",
   "metadata": {},
   "outputs": [],
   "source": [
    "df_sc['cluster'] = cluster_dic"
   ]
  },
  {
   "cell_type": "code",
   "execution_count": 37,
   "id": "97764416",
   "metadata": {},
   "outputs": [
    {
     "data": {
      "text/plain": [
       "Index(['Age', 'Annual Income (k$)', 'Spending Score (1-100)', 'Gender',\n",
       "       'cluster'],\n",
       "      dtype='object')"
      ]
     },
     "execution_count": 37,
     "metadata": {},
     "output_type": "execute_result"
    }
   ],
   "source": [
    "df_sc.columns"
   ]
  },
  {
   "cell_type": "code",
   "execution_count": 38,
   "id": "cb1ff168",
   "metadata": {},
   "outputs": [
    {
     "data": {
      "text/html": [
       "<div>\n",
       "<style scoped>\n",
       "    .dataframe tbody tr th:only-of-type {\n",
       "        vertical-align: middle;\n",
       "    }\n",
       "\n",
       "    .dataframe tbody tr th {\n",
       "        vertical-align: top;\n",
       "    }\n",
       "\n",
       "    .dataframe thead th {\n",
       "        text-align: right;\n",
       "    }\n",
       "</style>\n",
       "<table border=\"1\" class=\"dataframe\">\n",
       "  <thead>\n",
       "    <tr style=\"text-align: right;\">\n",
       "      <th></th>\n",
       "      <th>Age</th>\n",
       "      <th>Annual Income (k$)</th>\n",
       "      <th>Spending Score (1-100)</th>\n",
       "      <th>Gender</th>\n",
       "      <th>cluster</th>\n",
       "    </tr>\n",
       "  </thead>\n",
       "  <tbody>\n",
       "    <tr>\n",
       "      <th>0</th>\n",
       "      <td>-1.424569</td>\n",
       "      <td>-1.738999</td>\n",
       "      <td>-0.434801</td>\n",
       "      <td>Male</td>\n",
       "      <td>3</td>\n",
       "    </tr>\n",
       "    <tr>\n",
       "      <th>1</th>\n",
       "      <td>-1.281035</td>\n",
       "      <td>-1.738999</td>\n",
       "      <td>1.195704</td>\n",
       "      <td>Male</td>\n",
       "      <td>2</td>\n",
       "    </tr>\n",
       "    <tr>\n",
       "      <th>2</th>\n",
       "      <td>-1.352802</td>\n",
       "      <td>-1.700830</td>\n",
       "      <td>-1.715913</td>\n",
       "      <td>Female</td>\n",
       "      <td>3</td>\n",
       "    </tr>\n",
       "    <tr>\n",
       "      <th>3</th>\n",
       "      <td>-1.137502</td>\n",
       "      <td>-1.700830</td>\n",
       "      <td>1.040418</td>\n",
       "      <td>Female</td>\n",
       "      <td>2</td>\n",
       "    </tr>\n",
       "    <tr>\n",
       "      <th>4</th>\n",
       "      <td>-0.563369</td>\n",
       "      <td>-1.662660</td>\n",
       "      <td>-0.395980</td>\n",
       "      <td>Female</td>\n",
       "      <td>3</td>\n",
       "    </tr>\n",
       "  </tbody>\n",
       "</table>\n",
       "</div>"
      ],
      "text/plain": [
       "        Age  Annual Income (k$)  Spending Score (1-100)  Gender  cluster\n",
       "0 -1.424569           -1.738999               -0.434801    Male        3\n",
       "1 -1.281035           -1.738999                1.195704    Male        2\n",
       "2 -1.352802           -1.700830               -1.715913  Female        3\n",
       "3 -1.137502           -1.700830                1.040418  Female        2\n",
       "4 -0.563369           -1.662660               -0.395980  Female        3"
      ]
     },
     "execution_count": 38,
     "metadata": {},
     "output_type": "execute_result"
    }
   ],
   "source": [
    "df_sc.head(5)"
   ]
  },
  {
   "cell_type": "code",
   "execution_count": 39,
   "id": "419b97af",
   "metadata": {},
   "outputs": [
    {
     "data": {
      "text/html": [
       "<div>\n",
       "<style scoped>\n",
       "    .dataframe tbody tr th:only-of-type {\n",
       "        vertical-align: middle;\n",
       "    }\n",
       "\n",
       "    .dataframe tbody tr th {\n",
       "        vertical-align: top;\n",
       "    }\n",
       "\n",
       "    .dataframe thead th {\n",
       "        text-align: right;\n",
       "    }\n",
       "</style>\n",
       "<table border=\"1\" class=\"dataframe\">\n",
       "  <thead>\n",
       "    <tr style=\"text-align: right;\">\n",
       "      <th></th>\n",
       "      <th>Age</th>\n",
       "      <th>Annual Income (k$)</th>\n",
       "      <th>Spending Score (1-100)</th>\n",
       "      <th>cluster</th>\n",
       "    </tr>\n",
       "  </thead>\n",
       "  <tbody>\n",
       "    <tr>\n",
       "      <th>count</th>\n",
       "      <td>2.000000e+02</td>\n",
       "      <td>2.000000e+02</td>\n",
       "      <td>2.000000e+02</td>\n",
       "      <td>200.000000</td>\n",
       "    </tr>\n",
       "    <tr>\n",
       "      <th>mean</th>\n",
       "      <td>-9.603429e-17</td>\n",
       "      <td>-6.128431e-16</td>\n",
       "      <td>-1.121325e-16</td>\n",
       "      <td>2.255000</td>\n",
       "    </tr>\n",
       "    <tr>\n",
       "      <th>std</th>\n",
       "      <td>1.002509e+00</td>\n",
       "      <td>1.002509e+00</td>\n",
       "      <td>1.002509e+00</td>\n",
       "      <td>1.513748</td>\n",
       "    </tr>\n",
       "    <tr>\n",
       "      <th>min</th>\n",
       "      <td>-1.496335e+00</td>\n",
       "      <td>-1.738999e+00</td>\n",
       "      <td>-1.910021e+00</td>\n",
       "      <td>0.000000</td>\n",
       "    </tr>\n",
       "    <tr>\n",
       "      <th>25%</th>\n",
       "      <td>-7.248436e-01</td>\n",
       "      <td>-7.275093e-01</td>\n",
       "      <td>-5.997931e-01</td>\n",
       "      <td>1.000000</td>\n",
       "    </tr>\n",
       "    <tr>\n",
       "      <th>50%</th>\n",
       "      <td>-2.045351e-01</td>\n",
       "      <td>3.587926e-02</td>\n",
       "      <td>-7.764312e-03</td>\n",
       "      <td>3.000000</td>\n",
       "    </tr>\n",
       "    <tr>\n",
       "      <th>75%</th>\n",
       "      <td>7.284319e-01</td>\n",
       "      <td>6.656748e-01</td>\n",
       "      <td>8.851316e-01</td>\n",
       "      <td>4.000000</td>\n",
       "    </tr>\n",
       "    <tr>\n",
       "      <th>max</th>\n",
       "      <td>2.235532e+00</td>\n",
       "      <td>2.917671e+00</td>\n",
       "      <td>1.894492e+00</td>\n",
       "      <td>4.000000</td>\n",
       "    </tr>\n",
       "  </tbody>\n",
       "</table>\n",
       "</div>"
      ],
      "text/plain": [
       "                Age  Annual Income (k$)  Spending Score (1-100)     cluster\n",
       "count  2.000000e+02        2.000000e+02            2.000000e+02  200.000000\n",
       "mean  -9.603429e-17       -6.128431e-16           -1.121325e-16    2.255000\n",
       "std    1.002509e+00        1.002509e+00            1.002509e+00    1.513748\n",
       "min   -1.496335e+00       -1.738999e+00           -1.910021e+00    0.000000\n",
       "25%   -7.248436e-01       -7.275093e-01           -5.997931e-01    1.000000\n",
       "50%   -2.045351e-01        3.587926e-02           -7.764312e-03    3.000000\n",
       "75%    7.284319e-01        6.656748e-01            8.851316e-01    4.000000\n",
       "max    2.235532e+00        2.917671e+00            1.894492e+00    4.000000"
      ]
     },
     "execution_count": 39,
     "metadata": {},
     "output_type": "execute_result"
    }
   ],
   "source": [
    "df_sc.describe()"
   ]
  },
  {
   "cell_type": "code",
   "execution_count": 40,
   "id": "a3271052",
   "metadata": {},
   "outputs": [
    {
     "data": {
      "text/html": [
       "<div>\n",
       "<style scoped>\n",
       "    .dataframe tbody tr th:only-of-type {\n",
       "        vertical-align: middle;\n",
       "    }\n",
       "\n",
       "    .dataframe tbody tr th {\n",
       "        vertical-align: top;\n",
       "    }\n",
       "\n",
       "    .dataframe thead th {\n",
       "        text-align: right;\n",
       "    }\n",
       "</style>\n",
       "<table border=\"1\" class=\"dataframe\">\n",
       "  <thead>\n",
       "    <tr style=\"text-align: right;\">\n",
       "      <th></th>\n",
       "      <th>Age</th>\n",
       "      <th>Annual Income (k$)</th>\n",
       "      <th>Spending Score (1-100)</th>\n",
       "      <th>Gender</th>\n",
       "      <th>cluster</th>\n",
       "    </tr>\n",
       "  </thead>\n",
       "  <tbody>\n",
       "    <tr>\n",
       "      <th>123</th>\n",
       "      <td>0.010765</td>\n",
       "      <td>0.322150</td>\n",
       "      <td>1.583920</td>\n",
       "      <td>Male</td>\n",
       "      <td>0</td>\n",
       "    </tr>\n",
       "    <tr>\n",
       "      <th>125</th>\n",
       "      <td>-0.563369</td>\n",
       "      <td>0.360319</td>\n",
       "      <td>1.040418</td>\n",
       "      <td>Female</td>\n",
       "      <td>0</td>\n",
       "    </tr>\n",
       "    <tr>\n",
       "      <th>127</th>\n",
       "      <td>0.082532</td>\n",
       "      <td>0.398489</td>\n",
       "      <td>1.739206</td>\n",
       "      <td>Male</td>\n",
       "      <td>0</td>\n",
       "    </tr>\n",
       "    <tr>\n",
       "      <th>129</th>\n",
       "      <td>-0.061002</td>\n",
       "      <td>0.398489</td>\n",
       "      <td>0.962775</td>\n",
       "      <td>Male</td>\n",
       "      <td>0</td>\n",
       "    </tr>\n",
       "    <tr>\n",
       "      <th>131</th>\n",
       "      <td>0.010765</td>\n",
       "      <td>0.398489</td>\n",
       "      <td>0.962775</td>\n",
       "      <td>Male</td>\n",
       "      <td>0</td>\n",
       "    </tr>\n",
       "  </tbody>\n",
       "</table>\n",
       "</div>"
      ],
      "text/plain": [
       "          Age  Annual Income (k$)  Spending Score (1-100)  Gender  cluster\n",
       "123  0.010765            0.322150                1.583920    Male        0\n",
       "125 -0.563369            0.360319                1.040418  Female        0\n",
       "127  0.082532            0.398489                1.739206    Male        0\n",
       "129 -0.061002            0.398489                0.962775    Male        0\n",
       "131  0.010765            0.398489                0.962775    Male        0"
      ]
     },
     "execution_count": 40,
     "metadata": {},
     "output_type": "execute_result"
    }
   ],
   "source": [
    "df_sc[df_sc['cluster'] == 0].head(5)"
   ]
  },
  {
   "cell_type": "code",
   "execution_count": 41,
   "id": "47ec93b2",
   "metadata": {},
   "outputs": [
    {
     "data": {
      "text/html": [
       "<div>\n",
       "<style scoped>\n",
       "    .dataframe tbody tr th:only-of-type {\n",
       "        vertical-align: middle;\n",
       "    }\n",
       "\n",
       "    .dataframe tbody tr th {\n",
       "        vertical-align: top;\n",
       "    }\n",
       "\n",
       "    .dataframe thead th {\n",
       "        text-align: right;\n",
       "    }\n",
       "</style>\n",
       "<table border=\"1\" class=\"dataframe\">\n",
       "  <thead>\n",
       "    <tr style=\"text-align: right;\">\n",
       "      <th></th>\n",
       "      <th>Age</th>\n",
       "      <th>Annual Income (k$)</th>\n",
       "      <th>Spending Score (1-100)</th>\n",
       "      <th>cluster</th>\n",
       "    </tr>\n",
       "  </thead>\n",
       "  <tbody>\n",
       "    <tr>\n",
       "      <th>count</th>\n",
       "      <td>39.000000</td>\n",
       "      <td>39.000000</td>\n",
       "      <td>39.000000</td>\n",
       "      <td>39.0</td>\n",
       "    </tr>\n",
       "    <tr>\n",
       "      <th>mean</th>\n",
       "      <td>-0.441917</td>\n",
       "      <td>0.991583</td>\n",
       "      <td>1.239503</td>\n",
       "      <td>0.0</td>\n",
       "    </tr>\n",
       "    <tr>\n",
       "      <th>std</th>\n",
       "      <td>0.267593</td>\n",
       "      <td>0.622638</td>\n",
       "      <td>0.363544</td>\n",
       "      <td>0.0</td>\n",
       "    </tr>\n",
       "    <tr>\n",
       "      <th>min</th>\n",
       "      <td>-0.850435</td>\n",
       "      <td>0.322150</td>\n",
       "      <td>0.496916</td>\n",
       "      <td>0.0</td>\n",
       "    </tr>\n",
       "    <tr>\n",
       "      <th>25%</th>\n",
       "      <td>-0.635135</td>\n",
       "      <td>0.570251</td>\n",
       "      <td>0.943364</td>\n",
       "      <td>0.0</td>\n",
       "    </tr>\n",
       "    <tr>\n",
       "      <th>50%</th>\n",
       "      <td>-0.491602</td>\n",
       "      <td>0.703844</td>\n",
       "      <td>1.273347</td>\n",
       "      <td>0.0</td>\n",
       "    </tr>\n",
       "    <tr>\n",
       "      <th>75%</th>\n",
       "      <td>-0.240418</td>\n",
       "      <td>1.314555</td>\n",
       "      <td>1.545098</td>\n",
       "      <td>0.0</td>\n",
       "    </tr>\n",
       "    <tr>\n",
       "      <th>max</th>\n",
       "      <td>0.082532</td>\n",
       "      <td>2.917671</td>\n",
       "      <td>1.816849</td>\n",
       "      <td>0.0</td>\n",
       "    </tr>\n",
       "  </tbody>\n",
       "</table>\n",
       "</div>"
      ],
      "text/plain": [
       "             Age  Annual Income (k$)  Spending Score (1-100)  cluster\n",
       "count  39.000000           39.000000               39.000000     39.0\n",
       "mean   -0.441917            0.991583                1.239503      0.0\n",
       "std     0.267593            0.622638                0.363544      0.0\n",
       "min    -0.850435            0.322150                0.496916      0.0\n",
       "25%    -0.635135            0.570251                0.943364      0.0\n",
       "50%    -0.491602            0.703844                1.273347      0.0\n",
       "75%    -0.240418            1.314555                1.545098      0.0\n",
       "max     0.082532            2.917671                1.816849      0.0"
      ]
     },
     "execution_count": 41,
     "metadata": {},
     "output_type": "execute_result"
    }
   ],
   "source": [
    "df_sc[df_sc['cluster'] == 0].describe()"
   ]
  },
  {
   "cell_type": "code",
   "execution_count": 42,
   "id": "053f1913",
   "metadata": {},
   "outputs": [
    {
     "data": {
      "text/html": [
       "<div>\n",
       "<style scoped>\n",
       "    .dataframe tbody tr th:only-of-type {\n",
       "        vertical-align: middle;\n",
       "    }\n",
       "\n",
       "    .dataframe tbody tr th {\n",
       "        vertical-align: top;\n",
       "    }\n",
       "\n",
       "    .dataframe thead th {\n",
       "        text-align: right;\n",
       "    }\n",
       "</style>\n",
       "<table border=\"1\" class=\"dataframe\">\n",
       "  <thead>\n",
       "    <tr style=\"text-align: right;\">\n",
       "      <th></th>\n",
       "      <th>Age</th>\n",
       "      <th>Annual Income (k$)</th>\n",
       "      <th>Spending Score (1-100)</th>\n",
       "      <th>Gender</th>\n",
       "      <th>cluster</th>\n",
       "    </tr>\n",
       "  </thead>\n",
       "  <tbody>\n",
       "    <tr>\n",
       "      <th>126</th>\n",
       "      <td>0.297832</td>\n",
       "      <td>0.398489</td>\n",
       "      <td>-0.590088</td>\n",
       "      <td>Male</td>\n",
       "      <td>1</td>\n",
       "    </tr>\n",
       "    <tr>\n",
       "      <th>128</th>\n",
       "      <td>1.446099</td>\n",
       "      <td>0.398489</td>\n",
       "      <td>-1.521805</td>\n",
       "      <td>Male</td>\n",
       "      <td>1</td>\n",
       "    </tr>\n",
       "    <tr>\n",
       "      <th>130</th>\n",
       "      <td>0.584899</td>\n",
       "      <td>0.398489</td>\n",
       "      <td>-1.599448</td>\n",
       "      <td>Male</td>\n",
       "      <td>1</td>\n",
       "    </tr>\n",
       "    <tr>\n",
       "      <th>134</th>\n",
       "      <td>-1.352802</td>\n",
       "      <td>0.474828</td>\n",
       "      <td>-1.754735</td>\n",
       "      <td>Male</td>\n",
       "      <td>1</td>\n",
       "    </tr>\n",
       "    <tr>\n",
       "      <th>136</th>\n",
       "      <td>0.369598</td>\n",
       "      <td>0.474828</td>\n",
       "      <td>-1.677091</td>\n",
       "      <td>Female</td>\n",
       "      <td>1</td>\n",
       "    </tr>\n",
       "  </tbody>\n",
       "</table>\n",
       "</div>"
      ],
      "text/plain": [
       "          Age  Annual Income (k$)  Spending Score (1-100)  Gender  cluster\n",
       "126  0.297832            0.398489               -0.590088    Male        1\n",
       "128  1.446099            0.398489               -1.521805    Male        1\n",
       "130  0.584899            0.398489               -1.599448    Male        1\n",
       "134 -1.352802            0.474828               -1.754735    Male        1\n",
       "136  0.369598            0.474828               -1.677091  Female        1"
      ]
     },
     "execution_count": 42,
     "metadata": {},
     "output_type": "execute_result"
    }
   ],
   "source": [
    "df_sc[df_sc['cluster'] == 1].head(5)"
   ]
  },
  {
   "cell_type": "code",
   "execution_count": 43,
   "id": "ca5d2b80",
   "metadata": {},
   "outputs": [
    {
     "data": {
      "text/html": [
       "<div>\n",
       "<style scoped>\n",
       "    .dataframe tbody tr th:only-of-type {\n",
       "        vertical-align: middle;\n",
       "    }\n",
       "\n",
       "    .dataframe tbody tr th {\n",
       "        vertical-align: top;\n",
       "    }\n",
       "\n",
       "    .dataframe thead th {\n",
       "        text-align: right;\n",
       "    }\n",
       "</style>\n",
       "<table border=\"1\" class=\"dataframe\">\n",
       "  <thead>\n",
       "    <tr style=\"text-align: right;\">\n",
       "      <th></th>\n",
       "      <th>Age</th>\n",
       "      <th>Annual Income (k$)</th>\n",
       "      <th>Spending Score (1-100)</th>\n",
       "      <th>cluster</th>\n",
       "    </tr>\n",
       "  </thead>\n",
       "  <tbody>\n",
       "    <tr>\n",
       "      <th>count</th>\n",
       "      <td>34.000000</td>\n",
       "      <td>34.000000</td>\n",
       "      <td>34.000000</td>\n",
       "      <td>34.0</td>\n",
       "    </tr>\n",
       "    <tr>\n",
       "      <th>mean</th>\n",
       "      <td>0.173295</td>\n",
       "      <td>1.066454</td>\n",
       "      <td>-1.298010</td>\n",
       "      <td>1.0</td>\n",
       "    </tr>\n",
       "    <tr>\n",
       "      <th>std</th>\n",
       "      <td>0.772811</td>\n",
       "      <td>0.631065</td>\n",
       "      <td>0.383607</td>\n",
       "      <td>0.0</td>\n",
       "    </tr>\n",
       "    <tr>\n",
       "      <th>min</th>\n",
       "      <td>-1.424569</td>\n",
       "      <td>0.398489</td>\n",
       "      <td>-1.910021</td>\n",
       "      <td>1.0</td>\n",
       "    </tr>\n",
       "    <tr>\n",
       "      <th>25%</th>\n",
       "      <td>-0.312185</td>\n",
       "      <td>0.637048</td>\n",
       "      <td>-1.560627</td>\n",
       "      <td>1.0</td>\n",
       "    </tr>\n",
       "    <tr>\n",
       "      <th>50%</th>\n",
       "      <td>0.261948</td>\n",
       "      <td>0.951946</td>\n",
       "      <td>-1.347108</td>\n",
       "      <td>1.0</td>\n",
       "    </tr>\n",
       "    <tr>\n",
       "      <th>75%</th>\n",
       "      <td>0.584899</td>\n",
       "      <td>1.419521</td>\n",
       "      <td>-1.065652</td>\n",
       "      <td>1.0</td>\n",
       "    </tr>\n",
       "    <tr>\n",
       "      <th>max</th>\n",
       "      <td>1.446099</td>\n",
       "      <td>2.917671</td>\n",
       "      <td>-0.434801</td>\n",
       "      <td>1.0</td>\n",
       "    </tr>\n",
       "  </tbody>\n",
       "</table>\n",
       "</div>"
      ],
      "text/plain": [
       "             Age  Annual Income (k$)  Spending Score (1-100)  cluster\n",
       "count  34.000000           34.000000               34.000000     34.0\n",
       "mean    0.173295            1.066454               -1.298010      1.0\n",
       "std     0.772811            0.631065                0.383607      0.0\n",
       "min    -1.424569            0.398489               -1.910021      1.0\n",
       "25%    -0.312185            0.637048               -1.560627      1.0\n",
       "50%     0.261948            0.951946               -1.347108      1.0\n",
       "75%     0.584899            1.419521               -1.065652      1.0\n",
       "max     1.446099            2.917671               -0.434801      1.0"
      ]
     },
     "execution_count": 43,
     "metadata": {},
     "output_type": "execute_result"
    }
   ],
   "source": [
    "df_sc[df_sc['cluster'] == 1].describe()"
   ]
  },
  {
   "cell_type": "code",
   "execution_count": 44,
   "id": "9c33036b",
   "metadata": {},
   "outputs": [
    {
     "data": {
      "text/html": [
       "<div>\n",
       "<style scoped>\n",
       "    .dataframe tbody tr th:only-of-type {\n",
       "        vertical-align: middle;\n",
       "    }\n",
       "\n",
       "    .dataframe tbody tr th {\n",
       "        vertical-align: top;\n",
       "    }\n",
       "\n",
       "    .dataframe thead th {\n",
       "        text-align: right;\n",
       "    }\n",
       "</style>\n",
       "<table border=\"1\" class=\"dataframe\">\n",
       "  <thead>\n",
       "    <tr style=\"text-align: right;\">\n",
       "      <th></th>\n",
       "      <th>Age</th>\n",
       "      <th>Annual Income (k$)</th>\n",
       "      <th>Spending Score (1-100)</th>\n",
       "      <th>Gender</th>\n",
       "      <th>cluster</th>\n",
       "    </tr>\n",
       "  </thead>\n",
       "  <tbody>\n",
       "    <tr>\n",
       "      <th>1</th>\n",
       "      <td>-1.281035</td>\n",
       "      <td>-1.738999</td>\n",
       "      <td>1.195704</td>\n",
       "      <td>Male</td>\n",
       "      <td>2</td>\n",
       "    </tr>\n",
       "    <tr>\n",
       "      <th>3</th>\n",
       "      <td>-1.137502</td>\n",
       "      <td>-1.700830</td>\n",
       "      <td>1.040418</td>\n",
       "      <td>Female</td>\n",
       "      <td>2</td>\n",
       "    </tr>\n",
       "    <tr>\n",
       "      <th>5</th>\n",
       "      <td>-1.209269</td>\n",
       "      <td>-1.662660</td>\n",
       "      <td>1.001596</td>\n",
       "      <td>Female</td>\n",
       "      <td>2</td>\n",
       "    </tr>\n",
       "    <tr>\n",
       "      <th>7</th>\n",
       "      <td>-1.137502</td>\n",
       "      <td>-1.624491</td>\n",
       "      <td>1.700384</td>\n",
       "      <td>Female</td>\n",
       "      <td>2</td>\n",
       "    </tr>\n",
       "    <tr>\n",
       "      <th>9</th>\n",
       "      <td>-0.635135</td>\n",
       "      <td>-1.586321</td>\n",
       "      <td>0.846310</td>\n",
       "      <td>Female</td>\n",
       "      <td>2</td>\n",
       "    </tr>\n",
       "  </tbody>\n",
       "</table>\n",
       "</div>"
      ],
      "text/plain": [
       "        Age  Annual Income (k$)  Spending Score (1-100)  Gender  cluster\n",
       "1 -1.281035           -1.738999                1.195704    Male        2\n",
       "3 -1.137502           -1.700830                1.040418  Female        2\n",
       "5 -1.209269           -1.662660                1.001596  Female        2\n",
       "7 -1.137502           -1.624491                1.700384  Female        2\n",
       "9 -0.635135           -1.586321                0.846310  Female        2"
      ]
     },
     "execution_count": 44,
     "metadata": {},
     "output_type": "execute_result"
    }
   ],
   "source": [
    "df_sc[df_sc['cluster'] == 2].head(5)"
   ]
  },
  {
   "cell_type": "code",
   "execution_count": 45,
   "id": "a4bf4f7a",
   "metadata": {},
   "outputs": [
    {
     "data": {
      "text/html": [
       "<div>\n",
       "<style scoped>\n",
       "    .dataframe tbody tr th:only-of-type {\n",
       "        vertical-align: middle;\n",
       "    }\n",
       "\n",
       "    .dataframe tbody tr th {\n",
       "        vertical-align: top;\n",
       "    }\n",
       "\n",
       "    .dataframe thead th {\n",
       "        text-align: right;\n",
       "    }\n",
       "</style>\n",
       "<table border=\"1\" class=\"dataframe\">\n",
       "  <thead>\n",
       "    <tr style=\"text-align: right;\">\n",
       "      <th></th>\n",
       "      <th>Age</th>\n",
       "      <th>Annual Income (k$)</th>\n",
       "      <th>Spending Score (1-100)</th>\n",
       "      <th>cluster</th>\n",
       "    </tr>\n",
       "  </thead>\n",
       "  <tbody>\n",
       "    <tr>\n",
       "      <th>count</th>\n",
       "      <td>22.000000</td>\n",
       "      <td>22.000000</td>\n",
       "      <td>22.000000</td>\n",
       "      <td>22.0</td>\n",
       "    </tr>\n",
       "    <tr>\n",
       "      <th>mean</th>\n",
       "      <td>-0.974396</td>\n",
       "      <td>-1.329545</td>\n",
       "      <td>1.132178</td>\n",
       "      <td>2.0</td>\n",
       "    </tr>\n",
       "    <tr>\n",
       "      <th>std</th>\n",
       "      <td>0.377280</td>\n",
       "      <td>0.288818</td>\n",
       "      <td>0.407788</td>\n",
       "      <td>0.0</td>\n",
       "    </tr>\n",
       "    <tr>\n",
       "      <th>min</th>\n",
       "      <td>-1.496335</td>\n",
       "      <td>-1.738999</td>\n",
       "      <td>0.419273</td>\n",
       "      <td>2.0</td>\n",
       "    </tr>\n",
       "    <tr>\n",
       "      <th>25%</th>\n",
       "      <td>-1.263094</td>\n",
       "      <td>-1.576779</td>\n",
       "      <td>0.885132</td>\n",
       "      <td>2.0</td>\n",
       "    </tr>\n",
       "    <tr>\n",
       "      <th>50%</th>\n",
       "      <td>-1.101619</td>\n",
       "      <td>-1.376390</td>\n",
       "      <td>1.040418</td>\n",
       "      <td>2.0</td>\n",
       "    </tr>\n",
       "    <tr>\n",
       "      <th>75%</th>\n",
       "      <td>-0.653077</td>\n",
       "      <td>-1.080577</td>\n",
       "      <td>1.380106</td>\n",
       "      <td>2.0</td>\n",
       "    </tr>\n",
       "    <tr>\n",
       "      <th>max</th>\n",
       "      <td>-0.276302</td>\n",
       "      <td>-0.822933</td>\n",
       "      <td>1.894492</td>\n",
       "      <td>2.0</td>\n",
       "    </tr>\n",
       "  </tbody>\n",
       "</table>\n",
       "</div>"
      ],
      "text/plain": [
       "             Age  Annual Income (k$)  Spending Score (1-100)  cluster\n",
       "count  22.000000           22.000000               22.000000     22.0\n",
       "mean   -0.974396           -1.329545                1.132178      2.0\n",
       "std     0.377280            0.288818                0.407788      0.0\n",
       "min    -1.496335           -1.738999                0.419273      2.0\n",
       "25%    -1.263094           -1.576779                0.885132      2.0\n",
       "50%    -1.101619           -1.376390                1.040418      2.0\n",
       "75%    -0.653077           -1.080577                1.380106      2.0\n",
       "max    -0.276302           -0.822933                1.894492      2.0"
      ]
     },
     "execution_count": 45,
     "metadata": {},
     "output_type": "execute_result"
    }
   ],
   "source": [
    "df_sc[df_sc['cluster'] == 2].describe()"
   ]
  },
  {
   "cell_type": "code",
   "execution_count": 46,
   "id": "d6ebc1f0",
   "metadata": {},
   "outputs": [
    {
     "data": {
      "text/html": [
       "<div>\n",
       "<style scoped>\n",
       "    .dataframe tbody tr th:only-of-type {\n",
       "        vertical-align: middle;\n",
       "    }\n",
       "\n",
       "    .dataframe tbody tr th {\n",
       "        vertical-align: top;\n",
       "    }\n",
       "\n",
       "    .dataframe thead th {\n",
       "        text-align: right;\n",
       "    }\n",
       "</style>\n",
       "<table border=\"1\" class=\"dataframe\">\n",
       "  <thead>\n",
       "    <tr style=\"text-align: right;\">\n",
       "      <th></th>\n",
       "      <th>Age</th>\n",
       "      <th>Annual Income (k$)</th>\n",
       "      <th>Spending Score (1-100)</th>\n",
       "      <th>Gender</th>\n",
       "      <th>cluster</th>\n",
       "    </tr>\n",
       "  </thead>\n",
       "  <tbody>\n",
       "    <tr>\n",
       "      <th>0</th>\n",
       "      <td>-1.424569</td>\n",
       "      <td>-1.738999</td>\n",
       "      <td>-0.434801</td>\n",
       "      <td>Male</td>\n",
       "      <td>3</td>\n",
       "    </tr>\n",
       "    <tr>\n",
       "      <th>2</th>\n",
       "      <td>-1.352802</td>\n",
       "      <td>-1.700830</td>\n",
       "      <td>-1.715913</td>\n",
       "      <td>Female</td>\n",
       "      <td>3</td>\n",
       "    </tr>\n",
       "    <tr>\n",
       "      <th>4</th>\n",
       "      <td>-0.563369</td>\n",
       "      <td>-1.662660</td>\n",
       "      <td>-0.395980</td>\n",
       "      <td>Female</td>\n",
       "      <td>3</td>\n",
       "    </tr>\n",
       "    <tr>\n",
       "      <th>6</th>\n",
       "      <td>-0.276302</td>\n",
       "      <td>-1.624491</td>\n",
       "      <td>-1.715913</td>\n",
       "      <td>Female</td>\n",
       "      <td>3</td>\n",
       "    </tr>\n",
       "    <tr>\n",
       "      <th>14</th>\n",
       "      <td>-0.132768</td>\n",
       "      <td>-1.548152</td>\n",
       "      <td>-1.444162</td>\n",
       "      <td>Male</td>\n",
       "      <td>3</td>\n",
       "    </tr>\n",
       "  </tbody>\n",
       "</table>\n",
       "</div>"
      ],
      "text/plain": [
       "         Age  Annual Income (k$)  Spending Score (1-100)  Gender  cluster\n",
       "0  -1.424569           -1.738999               -0.434801    Male        3\n",
       "2  -1.352802           -1.700830               -1.715913  Female        3\n",
       "4  -0.563369           -1.662660               -0.395980  Female        3\n",
       "6  -0.276302           -1.624491               -1.715913  Female        3\n",
       "14 -0.132768           -1.548152               -1.444162    Male        3"
      ]
     },
     "execution_count": 46,
     "metadata": {},
     "output_type": "execute_result"
    }
   ],
   "source": [
    "df_sc[df_sc['cluster'] == 3].head(5)"
   ]
  },
  {
   "cell_type": "code",
   "execution_count": 47,
   "id": "12d01832",
   "metadata": {},
   "outputs": [
    {
     "data": {
      "text/html": [
       "<div>\n",
       "<style scoped>\n",
       "    .dataframe tbody tr th:only-of-type {\n",
       "        vertical-align: middle;\n",
       "    }\n",
       "\n",
       "    .dataframe tbody tr th {\n",
       "        vertical-align: top;\n",
       "    }\n",
       "\n",
       "    .dataframe thead th {\n",
       "        text-align: right;\n",
       "    }\n",
       "</style>\n",
       "<table border=\"1\" class=\"dataframe\">\n",
       "  <thead>\n",
       "    <tr style=\"text-align: right;\">\n",
       "      <th></th>\n",
       "      <th>Age</th>\n",
       "      <th>Annual Income (k$)</th>\n",
       "      <th>Spending Score (1-100)</th>\n",
       "      <th>Gender</th>\n",
       "      <th>cluster</th>\n",
       "    </tr>\n",
       "  </thead>\n",
       "  <tbody>\n",
       "    <tr>\n",
       "      <th>0</th>\n",
       "      <td>-1.424569</td>\n",
       "      <td>-1.738999</td>\n",
       "      <td>-0.434801</td>\n",
       "      <td>Male</td>\n",
       "      <td>3</td>\n",
       "    </tr>\n",
       "    <tr>\n",
       "      <th>2</th>\n",
       "      <td>-1.352802</td>\n",
       "      <td>-1.700830</td>\n",
       "      <td>-1.715913</td>\n",
       "      <td>Female</td>\n",
       "      <td>3</td>\n",
       "    </tr>\n",
       "    <tr>\n",
       "      <th>4</th>\n",
       "      <td>-0.563369</td>\n",
       "      <td>-1.662660</td>\n",
       "      <td>-0.395980</td>\n",
       "      <td>Female</td>\n",
       "      <td>3</td>\n",
       "    </tr>\n",
       "    <tr>\n",
       "      <th>6</th>\n",
       "      <td>-0.276302</td>\n",
       "      <td>-1.624491</td>\n",
       "      <td>-1.715913</td>\n",
       "      <td>Female</td>\n",
       "      <td>3</td>\n",
       "    </tr>\n",
       "    <tr>\n",
       "      <th>14</th>\n",
       "      <td>-0.132768</td>\n",
       "      <td>-1.548152</td>\n",
       "      <td>-1.444162</td>\n",
       "      <td>Male</td>\n",
       "      <td>3</td>\n",
       "    </tr>\n",
       "  </tbody>\n",
       "</table>\n",
       "</div>"
      ],
      "text/plain": [
       "         Age  Annual Income (k$)  Spending Score (1-100)  Gender  cluster\n",
       "0  -1.424569           -1.738999               -0.434801    Male        3\n",
       "2  -1.352802           -1.700830               -1.715913  Female        3\n",
       "4  -0.563369           -1.662660               -0.395980  Female        3\n",
       "6  -0.276302           -1.624491               -1.715913  Female        3\n",
       "14 -0.132768           -1.548152               -1.444162    Male        3"
      ]
     },
     "execution_count": 47,
     "metadata": {},
     "output_type": "execute_result"
    }
   ],
   "source": [
    "df_sc[df_sc['cluster'] == 3].head(5)"
   ]
  },
  {
   "cell_type": "code",
   "execution_count": 48,
   "id": "5c2c246c",
   "metadata": {},
   "outputs": [
    {
     "data": {
      "text/html": [
       "<div>\n",
       "<style scoped>\n",
       "    .dataframe tbody tr th:only-of-type {\n",
       "        vertical-align: middle;\n",
       "    }\n",
       "\n",
       "    .dataframe tbody tr th {\n",
       "        vertical-align: top;\n",
       "    }\n",
       "\n",
       "    .dataframe thead th {\n",
       "        text-align: right;\n",
       "    }\n",
       "</style>\n",
       "<table border=\"1\" class=\"dataframe\">\n",
       "  <thead>\n",
       "    <tr style=\"text-align: right;\">\n",
       "      <th></th>\n",
       "      <th>Age</th>\n",
       "      <th>Annual Income (k$)</th>\n",
       "      <th>Spending Score (1-100)</th>\n",
       "      <th>cluster</th>\n",
       "    </tr>\n",
       "  </thead>\n",
       "  <tbody>\n",
       "    <tr>\n",
       "      <th>count</th>\n",
       "      <td>58.000000</td>\n",
       "      <td>58.000000</td>\n",
       "      <td>58.000000</td>\n",
       "      <td>58.0</td>\n",
       "    </tr>\n",
       "    <tr>\n",
       "      <th>mean</th>\n",
       "      <td>1.198627</td>\n",
       "      <td>-0.460981</td>\n",
       "      <td>-0.327038</td>\n",
       "      <td>4.0</td>\n",
       "    </tr>\n",
       "    <tr>\n",
       "      <th>std</th>\n",
       "      <td>0.597452</td>\n",
       "      <td>0.526627</td>\n",
       "      <td>0.607895</td>\n",
       "      <td>0.0</td>\n",
       "    </tr>\n",
       "    <tr>\n",
       "      <th>min</th>\n",
       "      <td>0.226065</td>\n",
       "      <td>-1.586321</td>\n",
       "      <td>-1.832378</td>\n",
       "      <td>4.0</td>\n",
       "    </tr>\n",
       "    <tr>\n",
       "      <th>25%</th>\n",
       "      <td>0.728432</td>\n",
       "      <td>-0.765679</td>\n",
       "      <td>-0.502739</td>\n",
       "      <td>4.0</td>\n",
       "    </tr>\n",
       "    <tr>\n",
       "      <th>50%</th>\n",
       "      <td>1.051382</td>\n",
       "      <td>-0.441239</td>\n",
       "      <td>-0.163051</td>\n",
       "      <td>4.0</td>\n",
       "    </tr>\n",
       "    <tr>\n",
       "      <th>75%</th>\n",
       "      <td>1.786991</td>\n",
       "      <td>-0.021375</td>\n",
       "      <td>0.069879</td>\n",
       "      <td>4.0</td>\n",
       "    </tr>\n",
       "    <tr>\n",
       "      <th>max</th>\n",
       "      <td>2.235532</td>\n",
       "      <td>0.703844</td>\n",
       "      <td>0.380451</td>\n",
       "      <td>4.0</td>\n",
       "    </tr>\n",
       "  </tbody>\n",
       "</table>\n",
       "</div>"
      ],
      "text/plain": [
       "             Age  Annual Income (k$)  Spending Score (1-100)  cluster\n",
       "count  58.000000           58.000000               58.000000     58.0\n",
       "mean    1.198627           -0.460981               -0.327038      4.0\n",
       "std     0.597452            0.526627                0.607895      0.0\n",
       "min     0.226065           -1.586321               -1.832378      4.0\n",
       "25%     0.728432           -0.765679               -0.502739      4.0\n",
       "50%     1.051382           -0.441239               -0.163051      4.0\n",
       "75%     1.786991           -0.021375                0.069879      4.0\n",
       "max     2.235532            0.703844                0.380451      4.0"
      ]
     },
     "execution_count": 48,
     "metadata": {},
     "output_type": "execute_result"
    }
   ],
   "source": [
    "df_sc[df_sc['cluster'] == 4].describe()"
   ]
  },
  {
   "cell_type": "markdown",
   "id": "cf1ee91d",
   "metadata": {},
   "source": [
    "Now the dataset is labelled. "
   ]
  },
  {
   "cell_type": "markdown",
   "id": "81b82d9e",
   "metadata": {},
   "source": [
    "## Data Preprocessing for Supervised Learning "
   ]
  },
  {
   "cell_type": "markdown",
   "id": "cb8dfe52",
   "metadata": {},
   "source": [
    "### Encoding the categorical variable"
   ]
  },
  {
   "cell_type": "code",
   "execution_count": 49,
   "id": "ef3a8cc0",
   "metadata": {},
   "outputs": [
    {
     "data": {
      "text/html": [
       "<div>\n",
       "<style scoped>\n",
       "    .dataframe tbody tr th:only-of-type {\n",
       "        vertical-align: middle;\n",
       "    }\n",
       "\n",
       "    .dataframe tbody tr th {\n",
       "        vertical-align: top;\n",
       "    }\n",
       "\n",
       "    .dataframe thead th {\n",
       "        text-align: right;\n",
       "    }\n",
       "</style>\n",
       "<table border=\"1\" class=\"dataframe\">\n",
       "  <thead>\n",
       "    <tr style=\"text-align: right;\">\n",
       "      <th></th>\n",
       "      <th>Age</th>\n",
       "      <th>Annual Income (k$)</th>\n",
       "      <th>Spending Score (1-100)</th>\n",
       "      <th>cluster</th>\n",
       "      <th>Gender_Male</th>\n",
       "    </tr>\n",
       "  </thead>\n",
       "  <tbody>\n",
       "    <tr>\n",
       "      <th>0</th>\n",
       "      <td>-1.424569</td>\n",
       "      <td>-1.738999</td>\n",
       "      <td>-0.434801</td>\n",
       "      <td>3</td>\n",
       "      <td>1</td>\n",
       "    </tr>\n",
       "    <tr>\n",
       "      <th>1</th>\n",
       "      <td>-1.281035</td>\n",
       "      <td>-1.738999</td>\n",
       "      <td>1.195704</td>\n",
       "      <td>2</td>\n",
       "      <td>1</td>\n",
       "    </tr>\n",
       "    <tr>\n",
       "      <th>2</th>\n",
       "      <td>-1.352802</td>\n",
       "      <td>-1.700830</td>\n",
       "      <td>-1.715913</td>\n",
       "      <td>3</td>\n",
       "      <td>0</td>\n",
       "    </tr>\n",
       "    <tr>\n",
       "      <th>3</th>\n",
       "      <td>-1.137502</td>\n",
       "      <td>-1.700830</td>\n",
       "      <td>1.040418</td>\n",
       "      <td>2</td>\n",
       "      <td>0</td>\n",
       "    </tr>\n",
       "    <tr>\n",
       "      <th>4</th>\n",
       "      <td>-0.563369</td>\n",
       "      <td>-1.662660</td>\n",
       "      <td>-0.395980</td>\n",
       "      <td>3</td>\n",
       "      <td>0</td>\n",
       "    </tr>\n",
       "    <tr>\n",
       "      <th>...</th>\n",
       "      <td>...</td>\n",
       "      <td>...</td>\n",
       "      <td>...</td>\n",
       "      <td>...</td>\n",
       "      <td>...</td>\n",
       "    </tr>\n",
       "    <tr>\n",
       "      <th>195</th>\n",
       "      <td>-0.276302</td>\n",
       "      <td>2.268791</td>\n",
       "      <td>1.118061</td>\n",
       "      <td>0</td>\n",
       "      <td>0</td>\n",
       "    </tr>\n",
       "    <tr>\n",
       "      <th>196</th>\n",
       "      <td>0.441365</td>\n",
       "      <td>2.497807</td>\n",
       "      <td>-0.861839</td>\n",
       "      <td>1</td>\n",
       "      <td>0</td>\n",
       "    </tr>\n",
       "    <tr>\n",
       "      <th>197</th>\n",
       "      <td>-0.491602</td>\n",
       "      <td>2.497807</td>\n",
       "      <td>0.923953</td>\n",
       "      <td>0</td>\n",
       "      <td>1</td>\n",
       "    </tr>\n",
       "    <tr>\n",
       "      <th>198</th>\n",
       "      <td>-0.491602</td>\n",
       "      <td>2.917671</td>\n",
       "      <td>-1.250054</td>\n",
       "      <td>1</td>\n",
       "      <td>1</td>\n",
       "    </tr>\n",
       "    <tr>\n",
       "      <th>199</th>\n",
       "      <td>-0.635135</td>\n",
       "      <td>2.917671</td>\n",
       "      <td>1.273347</td>\n",
       "      <td>0</td>\n",
       "      <td>1</td>\n",
       "    </tr>\n",
       "  </tbody>\n",
       "</table>\n",
       "<p>200 rows × 5 columns</p>\n",
       "</div>"
      ],
      "text/plain": [
       "          Age  Annual Income (k$)  Spending Score (1-100)  cluster  \\\n",
       "0   -1.424569           -1.738999               -0.434801        3   \n",
       "1   -1.281035           -1.738999                1.195704        2   \n",
       "2   -1.352802           -1.700830               -1.715913        3   \n",
       "3   -1.137502           -1.700830                1.040418        2   \n",
       "4   -0.563369           -1.662660               -0.395980        3   \n",
       "..        ...                 ...                     ...      ...   \n",
       "195 -0.276302            2.268791                1.118061        0   \n",
       "196  0.441365            2.497807               -0.861839        1   \n",
       "197 -0.491602            2.497807                0.923953        0   \n",
       "198 -0.491602            2.917671               -1.250054        1   \n",
       "199 -0.635135            2.917671                1.273347        0   \n",
       "\n",
       "     Gender_Male  \n",
       "0              1  \n",
       "1              1  \n",
       "2              0  \n",
       "3              0  \n",
       "4              0  \n",
       "..           ...  \n",
       "195            0  \n",
       "196            0  \n",
       "197            1  \n",
       "198            1  \n",
       "199            1  \n",
       "\n",
       "[200 rows x 5 columns]"
      ]
     },
     "execution_count": 49,
     "metadata": {},
     "output_type": "execute_result"
    }
   ],
   "source": [
    "edf = pd.get_dummies(df_sc, columns = ['Gender'], drop_first = True)\n",
    "\n",
    "edf"
   ]
  },
  {
   "cell_type": "markdown",
   "id": "033139eb",
   "metadata": {},
   "source": [
    "### Defining the dependent and independent variables"
   ]
  },
  {
   "cell_type": "code",
   "execution_count": 50,
   "id": "2c9516d3",
   "metadata": {},
   "outputs": [],
   "source": [
    "x = edf.drop('cluster', axis = 1)"
   ]
  },
  {
   "cell_type": "code",
   "execution_count": 51,
   "id": "aeda3e76",
   "metadata": {},
   "outputs": [
    {
     "data": {
      "text/html": [
       "<div>\n",
       "<style scoped>\n",
       "    .dataframe tbody tr th:only-of-type {\n",
       "        vertical-align: middle;\n",
       "    }\n",
       "\n",
       "    .dataframe tbody tr th {\n",
       "        vertical-align: top;\n",
       "    }\n",
       "\n",
       "    .dataframe thead th {\n",
       "        text-align: right;\n",
       "    }\n",
       "</style>\n",
       "<table border=\"1\" class=\"dataframe\">\n",
       "  <thead>\n",
       "    <tr style=\"text-align: right;\">\n",
       "      <th></th>\n",
       "      <th>Age</th>\n",
       "      <th>Annual Income (k$)</th>\n",
       "      <th>Spending Score (1-100)</th>\n",
       "      <th>Gender_Male</th>\n",
       "    </tr>\n",
       "  </thead>\n",
       "  <tbody>\n",
       "    <tr>\n",
       "      <th>0</th>\n",
       "      <td>-1.424569</td>\n",
       "      <td>-1.738999</td>\n",
       "      <td>-0.434801</td>\n",
       "      <td>1</td>\n",
       "    </tr>\n",
       "    <tr>\n",
       "      <th>1</th>\n",
       "      <td>-1.281035</td>\n",
       "      <td>-1.738999</td>\n",
       "      <td>1.195704</td>\n",
       "      <td>1</td>\n",
       "    </tr>\n",
       "    <tr>\n",
       "      <th>2</th>\n",
       "      <td>-1.352802</td>\n",
       "      <td>-1.700830</td>\n",
       "      <td>-1.715913</td>\n",
       "      <td>0</td>\n",
       "    </tr>\n",
       "    <tr>\n",
       "      <th>3</th>\n",
       "      <td>-1.137502</td>\n",
       "      <td>-1.700830</td>\n",
       "      <td>1.040418</td>\n",
       "      <td>0</td>\n",
       "    </tr>\n",
       "    <tr>\n",
       "      <th>4</th>\n",
       "      <td>-0.563369</td>\n",
       "      <td>-1.662660</td>\n",
       "      <td>-0.395980</td>\n",
       "      <td>0</td>\n",
       "    </tr>\n",
       "  </tbody>\n",
       "</table>\n",
       "</div>"
      ],
      "text/plain": [
       "        Age  Annual Income (k$)  Spending Score (1-100)  Gender_Male\n",
       "0 -1.424569           -1.738999               -0.434801            1\n",
       "1 -1.281035           -1.738999                1.195704            1\n",
       "2 -1.352802           -1.700830               -1.715913            0\n",
       "3 -1.137502           -1.700830                1.040418            0\n",
       "4 -0.563369           -1.662660               -0.395980            0"
      ]
     },
     "execution_count": 51,
     "metadata": {},
     "output_type": "execute_result"
    }
   ],
   "source": [
    "x.head(5)"
   ]
  },
  {
   "cell_type": "code",
   "execution_count": 52,
   "id": "f2d15f9a",
   "metadata": {},
   "outputs": [],
   "source": [
    "y = edf['cluster']"
   ]
  },
  {
   "cell_type": "code",
   "execution_count": 53,
   "id": "b7eecc5d",
   "metadata": {},
   "outputs": [
    {
     "data": {
      "text/plain": [
       "0      3\n",
       "1      2\n",
       "2      3\n",
       "3      2\n",
       "4      3\n",
       "      ..\n",
       "195    0\n",
       "196    1\n",
       "197    0\n",
       "198    1\n",
       "199    0\n",
       "Name: cluster, Length: 200, dtype: int16"
      ]
     },
     "execution_count": 53,
     "metadata": {},
     "output_type": "execute_result"
    }
   ],
   "source": [
    "y"
   ]
  },
  {
   "cell_type": "markdown",
   "id": "ef375689",
   "metadata": {},
   "source": [
    "### Performing train test split"
   ]
  },
  {
   "cell_type": "code",
   "execution_count": 54,
   "id": "65735b09",
   "metadata": {},
   "outputs": [],
   "source": [
    "from sklearn.model_selection import train_test_split"
   ]
  },
  {
   "cell_type": "code",
   "execution_count": 55,
   "id": "ac310b9e",
   "metadata": {},
   "outputs": [
    {
     "name": "stdout",
     "output_type": "stream",
     "text": [
      "training input sample (140, 4)\n",
      "training output label (140,)\n",
      "testing input sample (60, 4)\n",
      "testing output label (60,)\n"
     ]
    }
   ],
   "source": [
    "xtrain,xtest,ytrain,ytest = train_test_split(x,y,random_state=1,test_size=0.30)\n",
    "\n",
    "print('training input sample',xtrain.shape)\n",
    "print('training output label',ytrain.shape)\n",
    "\n",
    "print('testing input sample',xtest.shape)\n",
    "print('testing output label',ytest.shape)"
   ]
  },
  {
   "cell_type": "code",
   "execution_count": 56,
   "id": "7bf3ff14",
   "metadata": {},
   "outputs": [
    {
     "data": {
      "text/plain": [
       "58     3\n",
       "40     4\n",
       "34     4\n",
       "102    4\n",
       "184    1\n",
       "198    1\n",
       "95     3\n",
       "4      3\n",
       "29     2\n",
       "168    1\n",
       "171    0\n",
       "18     4\n",
       "11     2\n",
       "89     4\n",
       "110    4\n",
       "118    4\n",
       "159    0\n",
       "35     2\n",
       "136    1\n",
       "59     4\n",
       "51     3\n",
       "16     3\n",
       "44     4\n",
       "94     3\n",
       "31     2\n",
       "162    1\n",
       "38     3\n",
       "28     3\n",
       "193    0\n",
       "27     2\n",
       "47     3\n",
       "165    0\n",
       "194    1\n",
       "177    0\n",
       "176    1\n",
       "97     3\n",
       "174    1\n",
       "73     4\n",
       "69     3\n",
       "172    1\n",
       "108    4\n",
       "107    4\n",
       "189    0\n",
       "14     3\n",
       "56     4\n",
       "19     2\n",
       "114    3\n",
       "39     2\n",
       "185    0\n",
       "124    3\n",
       "98     4\n",
       "123    0\n",
       "119    4\n",
       "53     4\n",
       "33     2\n",
       "179    0\n",
       "181    0\n",
       "106    4\n",
       "199    0\n",
       "138    1\n",
       "Name: cluster, dtype: int16"
      ]
     },
     "execution_count": 56,
     "metadata": {},
     "output_type": "execute_result"
    }
   ],
   "source": [
    "ytest"
   ]
  },
  {
   "cell_type": "markdown",
   "id": "43f6af91",
   "metadata": {},
   "source": [
    "## Building the model using Logistic Regression - Supervised Learning implemented"
   ]
  },
  {
   "cell_type": "markdown",
   "id": "4882b326",
   "metadata": {},
   "source": [
    "### Importing the required libraries"
   ]
  },
  {
   "cell_type": "code",
   "execution_count": 57,
   "id": "cd6acf2b",
   "metadata": {},
   "outputs": [],
   "source": [
    "from sklearn.linear_model import LogisticRegression"
   ]
  },
  {
   "cell_type": "markdown",
   "id": "e3b97f5f",
   "metadata": {},
   "source": [
    "### Building the Logistic Regression Model"
   ]
  },
  {
   "cell_type": "code",
   "execution_count": 58,
   "id": "e473debb",
   "metadata": {},
   "outputs": [],
   "source": [
    "log_reg = LogisticRegression(random_state = 2)"
   ]
  },
  {
   "cell_type": "markdown",
   "id": "e63b1e39",
   "metadata": {},
   "source": [
    "### Training the model"
   ]
  },
  {
   "cell_type": "code",
   "execution_count": 59,
   "id": "a04f334a",
   "metadata": {},
   "outputs": [
    {
     "data": {
      "text/plain": [
       "LogisticRegression(random_state=2)"
      ]
     },
     "execution_count": 59,
     "metadata": {},
     "output_type": "execute_result"
    }
   ],
   "source": [
    "log_reg.fit(xtrain,ytrain)"
   ]
  },
  {
   "cell_type": "markdown",
   "id": "f70e24a3",
   "metadata": {},
   "source": [
    "### Predicting the classes"
   ]
  },
  {
   "cell_type": "code",
   "execution_count": 60,
   "id": "8cf2eecb",
   "metadata": {},
   "outputs": [],
   "source": [
    "ypre = log_reg.predict(xtest)"
   ]
  },
  {
   "cell_type": "code",
   "execution_count": 61,
   "id": "f089ed2f",
   "metadata": {},
   "outputs": [
    {
     "data": {
      "text/plain": [
       "array([3, 4, 4, 4, 1, 1, 3, 3, 2, 1, 0, 4, 2, 4, 4, 4, 0, 2, 1, 4, 3, 3,\n",
       "       4, 3, 2, 1, 3, 4, 0, 2, 3, 0, 1, 0, 1, 3, 1, 4, 3, 1, 4, 4, 0, 3,\n",
       "       4, 2, 3, 2, 0, 3, 4, 0, 4, 4, 2, 0, 0, 4, 0, 1], dtype=int16)"
      ]
     },
     "execution_count": 61,
     "metadata": {},
     "output_type": "execute_result"
    }
   ],
   "source": [
    "ypre"
   ]
  },
  {
   "cell_type": "markdown",
   "id": "3c0a546f",
   "metadata": {},
   "source": [
    "### Performance Metrics"
   ]
  },
  {
   "cell_type": "code",
   "execution_count": 62,
   "id": "27c50691",
   "metadata": {},
   "outputs": [],
   "source": [
    "from sklearn.metrics import confusion_matrix,accuracy_score,classification_report"
   ]
  },
  {
   "cell_type": "markdown",
   "id": "8223c5d6",
   "metadata": {},
   "source": [
    "#### Confusion Matrix"
   ]
  },
  {
   "cell_type": "code",
   "execution_count": 63,
   "id": "99e2e149",
   "metadata": {},
   "outputs": [
    {
     "name": "stdout",
     "output_type": "stream",
     "text": [
      "Confusion Matrix\n",
      "[[11  0  0  0  0]\n",
      " [ 0 10  0  0  0]\n",
      " [ 0  0  8  0  0]\n",
      " [ 0  0  0 13  1]\n",
      " [ 0  0  0  0 17]]\n"
     ]
    }
   ],
   "source": [
    "cm_logreg = confusion_matrix(ytest,ypre)\n",
    "print(\"Confusion Matrix\")\n",
    "print(cm_logreg)"
   ]
  },
  {
   "cell_type": "markdown",
   "id": "f492b436",
   "metadata": {},
   "source": [
    "#### Accuracy Score"
   ]
  },
  {
   "cell_type": "code",
   "execution_count": 64,
   "id": "f63b71c6",
   "metadata": {},
   "outputs": [],
   "source": [
    "acc_log_reg = accuracy_score(ytest,ypre)"
   ]
  },
  {
   "cell_type": "code",
   "execution_count": 65,
   "id": "5f985169",
   "metadata": {},
   "outputs": [
    {
     "name": "stdout",
     "output_type": "stream",
     "text": [
      "Accuracy Score:  0.9833333333333333\n"
     ]
    }
   ],
   "source": [
    "print('Accuracy Score: ', acc_log_reg)"
   ]
  },
  {
   "cell_type": "markdown",
   "id": "c2f8dad0",
   "metadata": {},
   "source": [
    "#### Classification Report"
   ]
  },
  {
   "cell_type": "code",
   "execution_count": 66,
   "id": "69eca15a",
   "metadata": {},
   "outputs": [
    {
     "name": "stdout",
     "output_type": "stream",
     "text": [
      "Classification Report\n",
      "              precision    recall  f1-score   support\n",
      "\n",
      "           0       1.00      1.00      1.00        11\n",
      "           1       1.00      1.00      1.00        10\n",
      "           2       1.00      1.00      1.00         8\n",
      "           3       1.00      0.93      0.96        14\n",
      "           4       0.94      1.00      0.97        17\n",
      "\n",
      "    accuracy                           0.98        60\n",
      "   macro avg       0.99      0.99      0.99        60\n",
      "weighted avg       0.98      0.98      0.98        60\n",
      "\n"
     ]
    }
   ],
   "source": [
    "print(\"Classification Report\")\n",
    "print(classification_report(ytest,ypre))"
   ]
  },
  {
   "cell_type": "markdown",
   "id": "0d84a7a2",
   "metadata": {},
   "source": [
    "## Building the model using Decision Tree - Supervised Learning implemented"
   ]
  },
  {
   "cell_type": "markdown",
   "id": "6d50117b",
   "metadata": {},
   "source": [
    "### Importing the required libraries"
   ]
  },
  {
   "cell_type": "code",
   "execution_count": 67,
   "id": "d1912624",
   "metadata": {},
   "outputs": [],
   "source": [
    "from sklearn.tree import DecisionTreeClassifier"
   ]
  },
  {
   "cell_type": "markdown",
   "id": "9d61400e",
   "metadata": {},
   "source": [
    "### Building the Decision Tree Model"
   ]
  },
  {
   "cell_type": "code",
   "execution_count": 68,
   "id": "92c44b59",
   "metadata": {},
   "outputs": [],
   "source": [
    "DT = DecisionTreeClassifier(random_state = 2)"
   ]
  },
  {
   "cell_type": "markdown",
   "id": "d194122d",
   "metadata": {},
   "source": [
    "### Training the model"
   ]
  },
  {
   "cell_type": "code",
   "execution_count": 69,
   "id": "be537983",
   "metadata": {},
   "outputs": [],
   "source": [
    "DT_Model = DT.fit(xtrain,ytrain)"
   ]
  },
  {
   "cell_type": "markdown",
   "id": "7ff69dce",
   "metadata": {},
   "source": [
    "### Predicting the classes"
   ]
  },
  {
   "cell_type": "code",
   "execution_count": 70,
   "id": "3bc15380",
   "metadata": {},
   "outputs": [],
   "source": [
    "y_pred_DT = DT_Model.predict(xtest)"
   ]
  },
  {
   "cell_type": "code",
   "execution_count": 71,
   "id": "86302975",
   "metadata": {},
   "outputs": [
    {
     "data": {
      "text/plain": [
       "array([3, 4, 4, 4, 3, 1, 3, 3, 2, 1, 0, 4, 2, 4, 4, 4, 0, 2, 1, 4, 3, 3,\n",
       "       4, 3, 2, 1, 3, 3, 0, 3, 3, 0, 1, 0, 1, 3, 1, 4, 3, 1, 4, 4, 0, 3,\n",
       "       4, 2, 3, 2, 0, 3, 4, 0, 4, 4, 2, 0, 0, 4, 0, 1], dtype=int16)"
      ]
     },
     "execution_count": 71,
     "metadata": {},
     "output_type": "execute_result"
    }
   ],
   "source": [
    "y_pred_DT"
   ]
  },
  {
   "cell_type": "markdown",
   "id": "4d634a98",
   "metadata": {},
   "source": [
    "### Performance Metrics"
   ]
  },
  {
   "cell_type": "markdown",
   "id": "14e98484",
   "metadata": {},
   "source": [
    "#### Confusion Matrix"
   ]
  },
  {
   "cell_type": "code",
   "execution_count": 72,
   "id": "2e83a3ee",
   "metadata": {},
   "outputs": [
    {
     "name": "stdout",
     "output_type": "stream",
     "text": [
      "Confusion Matrix\n",
      "[[11  0  0  0  0]\n",
      " [ 0  9  0  1  0]\n",
      " [ 0  0  7  1  0]\n",
      " [ 0  0  0 14  0]\n",
      " [ 0  0  0  0 17]]\n"
     ]
    }
   ],
   "source": [
    "print('Confusion Matrix')\n",
    "cm_dt = confusion_matrix(ytest,y_pred_DT)\n",
    "print(cm_dt)"
   ]
  },
  {
   "cell_type": "markdown",
   "id": "77f66bb4",
   "metadata": {},
   "source": [
    "#### Accuracy Score"
   ]
  },
  {
   "cell_type": "code",
   "execution_count": 73,
   "id": "2aa53c83",
   "metadata": {},
   "outputs": [
    {
     "name": "stdout",
     "output_type": "stream",
     "text": [
      "Accuracy Score:  0.9666666666666667\n"
     ]
    }
   ],
   "source": [
    "accuracy_score_DT = accuracy_score(ytest, y_pred_DT, normalize=True)\n",
    "print(\"Accuracy Score: \", accuracy_score_DT)"
   ]
  },
  {
   "cell_type": "markdown",
   "id": "914b2924",
   "metadata": {},
   "source": [
    "#### Classification Report"
   ]
  },
  {
   "cell_type": "code",
   "execution_count": 74,
   "id": "04538992",
   "metadata": {},
   "outputs": [
    {
     "name": "stdout",
     "output_type": "stream",
     "text": [
      "Classification Report\n",
      "              precision    recall  f1-score   support\n",
      "\n",
      "           0       1.00      1.00      1.00        11\n",
      "           1       1.00      0.90      0.95        10\n",
      "           2       1.00      0.88      0.93         8\n",
      "           3       0.88      1.00      0.93        14\n",
      "           4       1.00      1.00      1.00        17\n",
      "\n",
      "    accuracy                           0.97        60\n",
      "   macro avg       0.97      0.96      0.96        60\n",
      "weighted avg       0.97      0.97      0.97        60\n",
      "\n"
     ]
    }
   ],
   "source": [
    "print(\"Classification Report\")\n",
    "print(classification_report(ytest,y_pred_DT))"
   ]
  },
  {
   "cell_type": "markdown",
   "id": "c7e0787e",
   "metadata": {},
   "source": [
    "#### Plotting the tree"
   ]
  },
  {
   "cell_type": "code",
   "execution_count": 75,
   "id": "8d9946e5",
   "metadata": {},
   "outputs": [
    {
     "data": {
      "image/png": "[encoded data removed]",
      "text/plain": [
       "<Figure size 2500x2500 with 1 Axes>"
      ]
     },
     "metadata": {},
     "output_type": "display_data"
    }
   ],
   "source": [
    "from sklearn import tree \n",
    "fig, ax = plt.subplots(figsize=(25, 25))\n",
    "tree.plot_tree(DT_Model, fontsize=10)\n",
    "plt.show()"
   ]
  },
  {
   "cell_type": "markdown",
   "id": "e78f4b72",
   "metadata": {},
   "source": [
    "## Building the model using Random Forest - Supervised Learning implemented"
   ]
  },
  {
   "cell_type": "markdown",
   "id": "38063266",
   "metadata": {},
   "source": [
    "### Importing the required libraries"
   ]
  },
  {
   "cell_type": "code",
   "execution_count": 76,
   "id": "ec764f41",
   "metadata": {},
   "outputs": [],
   "source": [
    "from sklearn.ensemble import RandomForestClassifier"
   ]
  },
  {
   "cell_type": "markdown",
   "id": "39d3f39e",
   "metadata": {},
   "source": [
    "### Building the Random Forest Model"
   ]
  },
  {
   "cell_type": "code",
   "execution_count": 77,
   "id": "dc220e6e",
   "metadata": {},
   "outputs": [],
   "source": [
    "RF = RandomForestClassifier(random_state = 2)"
   ]
  },
  {
   "cell_type": "markdown",
   "id": "b6885557",
   "metadata": {},
   "source": [
    "### Training the model"
   ]
  },
  {
   "cell_type": "code",
   "execution_count": 78,
   "id": "47c1d83d",
   "metadata": {},
   "outputs": [],
   "source": [
    "RF_model = RF.fit(xtrain,ytrain)"
   ]
  },
  {
   "cell_type": "markdown",
   "id": "1d6b88b0",
   "metadata": {},
   "source": [
    "### Predicting the classes"
   ]
  },
  {
   "cell_type": "code",
   "execution_count": 79,
   "id": "6c85e0cc",
   "metadata": {},
   "outputs": [],
   "source": [
    "y_pred_RF = RF_model.predict(xtest)"
   ]
  },
  {
   "cell_type": "code",
   "execution_count": 80,
   "id": "b79b5fc1",
   "metadata": {},
   "outputs": [
    {
     "data": {
      "text/plain": [
       "array([3, 4, 4, 4, 1, 1, 3, 3, 2, 1, 0, 4, 2, 4, 4, 4, 0, 2, 1, 4, 3, 3,\n",
       "       4, 3, 2, 1, 3, 3, 0, 3, 3, 0, 1, 0, 1, 3, 1, 4, 3, 1, 4, 4, 0, 3,\n",
       "       4, 2, 3, 2, 0, 3, 4, 0, 4, 4, 2, 0, 0, 4, 0, 1], dtype=int16)"
      ]
     },
     "execution_count": 80,
     "metadata": {},
     "output_type": "execute_result"
    }
   ],
   "source": [
    "y_pred_RF"
   ]
  },
  {
   "cell_type": "markdown",
   "id": "a12182a7",
   "metadata": {},
   "source": [
    "### Performance Metrics"
   ]
  },
  {
   "cell_type": "markdown",
   "id": "ccfe4684",
   "metadata": {},
   "source": [
    "#### Confusion Matrix"
   ]
  },
  {
   "cell_type": "code",
   "execution_count": 81,
   "id": "ed8459f7",
   "metadata": {},
   "outputs": [
    {
     "name": "stdout",
     "output_type": "stream",
     "text": [
      "Confusion Matrix\n",
      "[[11  0  0  0  0]\n",
      " [ 0 10  0  0  0]\n",
      " [ 0  0  7  1  0]\n",
      " [ 0  0  0 14  0]\n",
      " [ 0  0  0  0 17]]\n"
     ]
    }
   ],
   "source": [
    "cm_rf = confusion_matrix(ytest,y_pred_RF)\n",
    "print(\"Confusion Matrix\")\n",
    "print(cm_rf)"
   ]
  },
  {
   "cell_type": "markdown",
   "id": "30df7fbb",
   "metadata": {},
   "source": [
    "#### Accuracy Score"
   ]
  },
  {
   "cell_type": "code",
   "execution_count": 82,
   "id": "0f95c07e",
   "metadata": {},
   "outputs": [
    {
     "name": "stdout",
     "output_type": "stream",
     "text": [
      "Accuracy Score:  0.9833333333333333\n"
     ]
    }
   ],
   "source": [
    "accuracy_score_RF = accuracy_score(ytest,y_pred_RF)\n",
    "print(\"Accuracy Score: \", accuracy_score_RF)"
   ]
  },
  {
   "cell_type": "markdown",
   "id": "f1351664",
   "metadata": {},
   "source": [
    "#### Classification Report"
   ]
  },
  {
   "cell_type": "code",
   "execution_count": 83,
   "id": "ac6bb2df",
   "metadata": {},
   "outputs": [
    {
     "name": "stdout",
     "output_type": "stream",
     "text": [
      "Classification Report\n",
      "              precision    recall  f1-score   support\n",
      "\n",
      "           0       1.00      1.00      1.00        11\n",
      "           1       1.00      1.00      1.00        10\n",
      "           2       1.00      0.88      0.93         8\n",
      "           3       0.93      1.00      0.97        14\n",
      "           4       1.00      1.00      1.00        17\n",
      "\n",
      "    accuracy                           0.98        60\n",
      "   macro avg       0.99      0.97      0.98        60\n",
      "weighted avg       0.98      0.98      0.98        60\n",
      "\n"
     ]
    }
   ],
   "source": [
    "print(\"Classification Report\")\n",
    "print(classification_report(ytest,y_pred_RF))"
   ]
  },
  {
   "cell_type": "markdown",
   "id": "ec161562",
   "metadata": {},
   "source": [
    "## Comparing the Accuracy Scores"
   ]
  },
  {
   "cell_type": "code",
   "execution_count": 84,
   "id": "07b30b00",
   "metadata": {},
   "outputs": [],
   "source": [
    "#d = {'Model': ['Logistic Regression', 'Decision Tree', 'Random Forest'], 'Accuracy': [acc_log_reg, accuracy_score_DT, accuracy_score_RF], index=[2, 3])}\n",
    "#pd.DataFrame(data=d, index=[0, 1, 2])\n",
    "\n",
    "acc = pd.DataFrame()"
   ]
  },
  {
   "cell_type": "code",
   "execution_count": 85,
   "id": "e7ce7cc6",
   "metadata": {},
   "outputs": [],
   "source": [
    "acc['Model'] = ['Logistic Regression', 'Decision Tree', 'Random Forest']"
   ]
  },
  {
   "cell_type": "code",
   "execution_count": 86,
   "id": "c8fb15af",
   "metadata": {},
   "outputs": [],
   "source": [
    "acc['Accuracy'] = [acc_log_reg, accuracy_score_DT, accuracy_score_RF]"
   ]
  },
  {
   "cell_type": "code",
   "execution_count": 87,
   "id": "ebf92393",
   "metadata": {},
   "outputs": [
    {
     "data": {
      "text/html": [
       "<div>\n",
       "<style scoped>\n",
       "    .dataframe tbody tr th:only-of-type {\n",
       "        vertical-align: middle;\n",
       "    }\n",
       "\n",
       "    .dataframe tbody tr th {\n",
       "        vertical-align: top;\n",
       "    }\n",
       "\n",
       "    .dataframe thead th {\n",
       "        text-align: right;\n",
       "    }\n",
       "</style>\n",
       "<table border=\"1\" class=\"dataframe\">\n",
       "  <thead>\n",
       "    <tr style=\"text-align: right;\">\n",
       "      <th></th>\n",
       "      <th>Model</th>\n",
       "      <th>Accuracy</th>\n",
       "    </tr>\n",
       "  </thead>\n",
       "  <tbody>\n",
       "    <tr>\n",
       "      <th>0</th>\n",
       "      <td>Logistic Regression</td>\n",
       "      <td>0.983333</td>\n",
       "    </tr>\n",
       "    <tr>\n",
       "      <th>1</th>\n",
       "      <td>Decision Tree</td>\n",
       "      <td>0.966667</td>\n",
       "    </tr>\n",
       "    <tr>\n",
       "      <th>2</th>\n",
       "      <td>Random Forest</td>\n",
       "      <td>0.983333</td>\n",
       "    </tr>\n",
       "  </tbody>\n",
       "</table>\n",
       "</div>"
      ],
      "text/plain": [
       "                 Model  Accuracy\n",
       "0  Logistic Regression  0.983333\n",
       "1        Decision Tree  0.966667\n",
       "2        Random Forest  0.983333"
      ]
     },
     "execution_count": 87,
     "metadata": {},
     "output_type": "execute_result"
    }
   ],
   "source": [
    "acc"
   ]
  },
  {
   "cell_type": "code",
   "execution_count": 88,
   "id": "efa20ddd",
   "metadata": {},
   "outputs": [
    {
     "data": {
      "text/plain": [
       "<AxesSubplot:xlabel='Model', ylabel='Accuracy'>"
      ]
     },
     "execution_count": 88,
     "metadata": {},
     "output_type": "execute_result"
    },
    {
     "data": {
      "image/png": "[encoded data removed]",
      "text/plain": [
       "<Figure size 640x480 with 1 Axes>"
      ]
     },
     "metadata": {},
     "output_type": "display_data"
    }
   ],
   "source": [
    "sns.barplot(x = acc['Model'], y = acc['Accuracy'])"
   ]
  },
  {
   "cell_type": "markdown",
   "id": "bb1add33",
   "metadata": {},
   "source": [
    "From this bar chart, we can identify the model that performs the best for the given dataset. The best model can be finalized with the client for further predictions. "
   ]
  }
 ],
 "metadata": {
  "kernelspec": {
   "display_name": "Python 3 (ipykernel)",
   "language": "python",
   "name": "python3"
  },
  "language_info": {
   "codemirror_mode": {
    "name": "ipython",
    "version": 3
   },
   "file_extension": ".py",
   "mimetype": "text/x-python",
   "name": "python",
   "nbconvert_exporter": "python",
   "pygments_lexer": "ipython3",
   "version": "3.9.13"
  },
  "toc": {
   "base_numbering": 1,
   "nav_menu": {},
   "number_sections": true,
   "sideBar": true,
   "skip_h1_title": false,
   "title_cell": "Table of Contents",
   "title_sidebar": "Contents",
   "toc_cell": false,
   "toc_position": {
    "height": "389.333px",
    "left": "22px",
    "top": "110.229px",
    "width": "260.667px"
   },
   "toc_section_display": true,
   "toc_window_display": true
  }
 },
 "nbformat": 4,
 "nbformat_minor": 5
}
